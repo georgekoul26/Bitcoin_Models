{
 "cells": [
  {
   "cell_type": "code",
   "execution_count": null,
   "metadata": {},
   "outputs": [],
   "source": [
    "##Test"
   ]
  },
  {
   "cell_type": "code",
   "execution_count": 1,
   "metadata": {},
   "outputs": [],
   "source": [
    "#Import Libraries\n",
    "import requests\n",
    "import json\n",
    "import pandas as pd\n",
    "from sklearn.preprocessing import MinMaxScaler\n",
    "from tensorflow.keras.models import Sequential\n",
    "from tensorflow.keras.layers import GRU, Dense, Dropout\n",
    "from sklearn.metrics import mean_squared_error\n",
    "import numpy as np\n",
    "import matplotlib.pyplot as plt"
   ]
  },
  {
   "cell_type": "code",
   "execution_count": 2,
   "metadata": {},
   "outputs": [],
   "source": [
    "from numpy.random import seed\n",
    "\n",
    "seed(1)\n",
    "from tensorflow import random\n",
    "\n",
    "random.set_seed(2)"
   ]
  },
  {
   "cell_type": "code",
   "execution_count": 5,
   "metadata": {},
   "outputs": [],
   "source": [
    "#Pull factors and BTC price from Glassnode Api\n",
    "API_KEY = \"1rwUpyBLJnEo1qGTFlLuz1CgeTx\"\n",
    "vol = requests.get('https://api.glassnode.com/v1/metrics/transactions/transfers_volume_sum',\n",
    "    params={'a': 'BTC', 'api_key': API_KEY})\n",
    "\n",
    "# convert to pandas dataframe\n",
    "vol_df = pd.read_json(vol.text, convert_dates=['t'])\n",
    "\n",
    "dorm = requests.get('https://api.glassnode.com/v1/metrics/indicators/average_dormancy',\n",
    "    params={'a': 'BTC', 'api_key': API_KEY})\n",
    "\n",
    "# convert to pandas dataframe\n",
    "dormancy_df = pd.read_json(dorm.text, convert_dates=['t'])\n",
    "\n",
    "# make API request\n",
    "asopr = requests.get('https://api.glassnode.com/v1/metrics/indicators/sopr_adjusted',\n",
    "    params={'a': 'BTC', 'api_key': API_KEY})\n",
    "\n",
    "# convert to pandas dataframe\n",
    "asopr_df = pd.read_json(asopr.text, convert_dates=['t'])\n",
    "asopr_df.head()\n",
    "\n",
    "# make API request\n",
    "price_res = requests.get('https://api.glassnode.com/v1/metrics/market/price_usd_close',\n",
    "    params={'a': 'BTC', 'api_key': API_KEY})\n",
    "\n",
    "# convert to pandas dataframe\n",
    "price_df = pd.read_json(price_res.text, convert_dates=['t'])\n",
    "\n",
    "# make API request\n",
    "exch_flow = requests.get('https://api.glassnode.com/v1/metrics/transactions/transfers_volume_exchanges_net',\n",
    "    params={'a': 'BTC', 'api_key': API_KEY})\n",
    "\n",
    "# convert to pandas dataframe\n",
    "exch_df = pd.read_json(exch_flow.text, convert_dates=['t'])\n",
    "\n",
    "# make API request\n",
    "cdd = requests.get('https://api.glassnode.com/v1/metrics/indicators/cdd',\n",
    "    params={'a': 'BTC', 'api_key': API_KEY})\n",
    "\n",
    "# convert to pandas dataframe\n",
    "cdd_df = pd.read_json(cdd.text, convert_dates=['t'])\n",
    "\n",
    "# make API request\n",
    "profit_relative = requests.get('https://api.glassnode.com/v1/metrics/supply/profit_relative',\n",
    "    params={'a': 'BTC', 'api_key': API_KEY})\n",
    "\n",
    "# convert to pandas dataframe\n",
    "profit_relative_df = pd.read_json(profit_relative.text, convert_dates=['t'])\n",
    "\n",
    "\n",
    "#convert to OHLCpandas dataframe\n",
    "ohlc = requests.get('https://api.glassnode.com/v1/metrics/market/price_usd_ohlc',\n",
    "                    params={'a': 'BTC', 'api_key': API_KEY})\n",
    "j = ohlc.json()\n",
    "ohlc_array=[]\n",
    "for t in j:\n",
    "    newdict={}\n",
    "    newdict['t']=t['t']\n",
    "    newdict['o']=t['o']['o']\n",
    "    newdict['h']=t['o']['h']\n",
    "    newdict['l']=t['o']['l']\n",
    "    newdict['c']=t['o']['c']\n",
    "    ohlc_array.append(newdict)\n",
    "ohlc_df = pd.DataFrame(ohlc_array)\n",
    "result = ohlc_df.to_json(orient=\"records\")\n",
    "ohlc_df = pd.read_json(result, convert_dates=['t'])\n",
    "\n"
   ]
  },
  {
   "cell_type": "code",
   "execution_count": 6,
   "metadata": {},
   "outputs": [],
   "source": [
    "ohlc_df.rename(columns = {'t':'date', 'o':'open', 'h':'high', 'l':'low', 'c':'close'}, inplace=True)\n",
    "ohlc_df.set_index('date', inplace=True)"
   ]
  },
  {
   "cell_type": "code",
   "execution_count": 7,
   "metadata": {},
   "outputs": [],
   "source": [
    "vol_df.rename(columns = {'t':'date', 'v':'vol'}, inplace=True)\n",
    "vol_df.set_index('date', inplace=True)\n"
   ]
  },
  {
   "cell_type": "code",
   "execution_count": 8,
   "metadata": {},
   "outputs": [],
   "source": [
    "dormancy_df.rename(columns = {'t':'date', 'v':'dormancy'}, inplace=True)\n",
    "dormancy_df.set_index('date', inplace=True)\n"
   ]
  },
  {
   "cell_type": "code",
   "execution_count": 9,
   "metadata": {},
   "outputs": [],
   "source": [
    "asopr_df.rename(columns = {'t':'date', 'v':'asopr'}, inplace=True)\n",
    "asopr_df.set_index('date', inplace=True)"
   ]
  },
  {
   "cell_type": "code",
   "execution_count": 10,
   "metadata": {},
   "outputs": [],
   "source": [
    "price_df.rename(columns = {'t':'date', 'v':'price'}, inplace=True)\n",
    "price_df.set_index('date', inplace=True)"
   ]
  },
  {
   "cell_type": "code",
   "execution_count": 11,
   "metadata": {},
   "outputs": [],
   "source": [
    "exch_df.rename(columns = {'t':'date', 'v':'flow'}, inplace=True)\n",
    "exch_df.set_index('date', inplace=True)"
   ]
  },
  {
   "cell_type": "code",
   "execution_count": 12,
   "metadata": {},
   "outputs": [],
   "source": [
    "cdd_df.rename(columns = {'t':'date', 'v':'cdd'}, inplace=True)\n",
    "cdd_df.set_index('date', inplace=True)"
   ]
  },
  {
   "cell_type": "code",
   "execution_count": 13,
   "metadata": {},
   "outputs": [],
   "source": [
    "profit_relative_df.rename(columns = {'t':'date', 'v':'profit_relative_df'}, inplace=True)\n",
    "profit_relative_df.set_index('date', inplace=True)"
   ]
  },
  {
   "cell_type": "code",
   "execution_count": 14,
   "metadata": {},
   "outputs": [],
   "source": [
    "dataset = pd.concat([vol_df, dormancy_df, asopr_df, price_df, exch_df, cdd_df], axis=1, join='inner')"
   ]
  },
  {
   "cell_type": "code",
   "execution_count": 15,
   "metadata": {},
   "outputs": [],
   "source": [
    "dataset.dropna(inplace=True)"
   ]
  },
  {
   "cell_type": "code",
   "execution_count": 16,
   "metadata": {},
   "outputs": [
    {
     "data": {
      "text/plain": [
       "(3556, 6)"
      ]
     },
     "execution_count": 16,
     "metadata": {},
     "output_type": "execute_result"
    }
   ],
   "source": [
    "dataset.shape"
   ]
  },
  {
   "cell_type": "code",
   "execution_count": 17,
   "metadata": {},
   "outputs": [
    {
     "data": {
      "text/html": [
       "<div>\n",
       "<style scoped>\n",
       "    .dataframe tbody tr th:only-of-type {\n",
       "        vertical-align: middle;\n",
       "    }\n",
       "\n",
       "    .dataframe tbody tr th {\n",
       "        vertical-align: top;\n",
       "    }\n",
       "\n",
       "    .dataframe thead th {\n",
       "        text-align: right;\n",
       "    }\n",
       "</style>\n",
       "<table border=\"1\" class=\"dataframe\">\n",
       "  <thead>\n",
       "    <tr style=\"text-align: right;\">\n",
       "      <th></th>\n",
       "      <th>vol</th>\n",
       "      <th>dormancy</th>\n",
       "      <th>asopr</th>\n",
       "      <th>price</th>\n",
       "      <th>flow</th>\n",
       "      <th>cdd</th>\n",
       "    </tr>\n",
       "    <tr>\n",
       "      <th>date</th>\n",
       "      <th></th>\n",
       "      <th></th>\n",
       "      <th></th>\n",
       "      <th></th>\n",
       "      <th></th>\n",
       "      <th></th>\n",
       "    </tr>\n",
       "  </thead>\n",
       "  <tbody>\n",
       "    <tr>\n",
       "      <th>2015-01-01</th>\n",
       "      <td>4.646205e+05</td>\n",
       "      <td>2.302504</td>\n",
       "      <td>0.987951</td>\n",
       "      <td>314.025456</td>\n",
       "      <td>124.391488</td>\n",
       "      <td>9.468414e+05</td>\n",
       "    </tr>\n",
       "    <tr>\n",
       "      <th>2015-01-02</th>\n",
       "      <td>7.280903e+05</td>\n",
       "      <td>2.879840</td>\n",
       "      <td>0.978582</td>\n",
       "      <td>315.687161</td>\n",
       "      <td>790.763344</td>\n",
       "      <td>1.942400e+06</td>\n",
       "    </tr>\n",
       "    <tr>\n",
       "      <th>2015-01-03</th>\n",
       "      <td>8.367299e+05</td>\n",
       "      <td>6.160422</td>\n",
       "      <td>0.923681</td>\n",
       "      <td>283.006535</td>\n",
       "      <td>4634.540821</td>\n",
       "      <td>4.768928e+06</td>\n",
       "    </tr>\n",
       "    <tr>\n",
       "      <th>2015-01-04</th>\n",
       "      <td>1.129690e+06</td>\n",
       "      <td>6.023914</td>\n",
       "      <td>0.915979</td>\n",
       "      <td>263.807883</td>\n",
       "      <td>-897.057854</td>\n",
       "      <td>5.944678e+06</td>\n",
       "    </tr>\n",
       "    <tr>\n",
       "      <th>2015-01-05</th>\n",
       "      <td>1.134569e+06</td>\n",
       "      <td>4.854263</td>\n",
       "      <td>0.901450</td>\n",
       "      <td>276.800000</td>\n",
       "      <td>7898.518534</td>\n",
       "      <td>5.045935e+06</td>\n",
       "    </tr>\n",
       "    <tr>\n",
       "      <th>...</th>\n",
       "      <td>...</td>\n",
       "      <td>...</td>\n",
       "      <td>...</td>\n",
       "      <td>...</td>\n",
       "      <td>...</td>\n",
       "      <td>...</td>\n",
       "    </tr>\n",
       "    <tr>\n",
       "      <th>2021-05-07</th>\n",
       "      <td>1.939428e+06</td>\n",
       "      <td>32.867983</td>\n",
       "      <td>1.105494</td>\n",
       "      <td>57369.557999</td>\n",
       "      <td>-9521.999293</td>\n",
       "      <td>2.461146e+07</td>\n",
       "    </tr>\n",
       "    <tr>\n",
       "      <th>2021-05-08</th>\n",
       "      <td>1.376119e+06</td>\n",
       "      <td>15.760862</td>\n",
       "      <td>1.043171</td>\n",
       "      <td>58766.584875</td>\n",
       "      <td>4660.610461</td>\n",
       "      <td>6.680947e+06</td>\n",
       "    </tr>\n",
       "    <tr>\n",
       "      <th>2021-05-09</th>\n",
       "      <td>1.085785e+06</td>\n",
       "      <td>22.308682</td>\n",
       "      <td>1.040930</td>\n",
       "      <td>58218.566077</td>\n",
       "      <td>7775.009119</td>\n",
       "      <td>9.067803e+06</td>\n",
       "    </tr>\n",
       "    <tr>\n",
       "      <th>2021-05-10</th>\n",
       "      <td>1.412837e+06</td>\n",
       "      <td>16.661084</td>\n",
       "      <td>1.030398</td>\n",
       "      <td>55824.861667</td>\n",
       "      <td>3975.683911</td>\n",
       "      <td>1.016189e+07</td>\n",
       "    </tr>\n",
       "    <tr>\n",
       "      <th>2021-05-11</th>\n",
       "      <td>1.204164e+06</td>\n",
       "      <td>14.106913</td>\n",
       "      <td>1.010814</td>\n",
       "      <td>56714.088910</td>\n",
       "      <td>-7455.401826</td>\n",
       "      <td>7.254929e+06</td>\n",
       "    </tr>\n",
       "  </tbody>\n",
       "</table>\n",
       "<p>2323 rows × 6 columns</p>\n",
       "</div>"
      ],
      "text/plain": [
       "                     vol   dormancy     asopr         price         flow  \\\n",
       "date                                                                       \n",
       "2015-01-01  4.646205e+05   2.302504  0.987951    314.025456   124.391488   \n",
       "2015-01-02  7.280903e+05   2.879840  0.978582    315.687161   790.763344   \n",
       "2015-01-03  8.367299e+05   6.160422  0.923681    283.006535  4634.540821   \n",
       "2015-01-04  1.129690e+06   6.023914  0.915979    263.807883  -897.057854   \n",
       "2015-01-05  1.134569e+06   4.854263  0.901450    276.800000  7898.518534   \n",
       "...                  ...        ...       ...           ...          ...   \n",
       "2021-05-07  1.939428e+06  32.867983  1.105494  57369.557999 -9521.999293   \n",
       "2021-05-08  1.376119e+06  15.760862  1.043171  58766.584875  4660.610461   \n",
       "2021-05-09  1.085785e+06  22.308682  1.040930  58218.566077  7775.009119   \n",
       "2021-05-10  1.412837e+06  16.661084  1.030398  55824.861667  3975.683911   \n",
       "2021-05-11  1.204164e+06  14.106913  1.010814  56714.088910 -7455.401826   \n",
       "\n",
       "                     cdd  \n",
       "date                      \n",
       "2015-01-01  9.468414e+05  \n",
       "2015-01-02  1.942400e+06  \n",
       "2015-01-03  4.768928e+06  \n",
       "2015-01-04  5.944678e+06  \n",
       "2015-01-05  5.045935e+06  \n",
       "...                  ...  \n",
       "2021-05-07  2.461146e+07  \n",
       "2021-05-08  6.680947e+06  \n",
       "2021-05-09  9.067803e+06  \n",
       "2021-05-10  1.016189e+07  \n",
       "2021-05-11  7.254929e+06  \n",
       "\n",
       "[2323 rows x 6 columns]"
      ]
     },
     "execution_count": 17,
     "metadata": {},
     "output_type": "execute_result"
    }
   ],
   "source": [
    "data_new = dataset['2015-01-01':]\n",
    "data_new"
   ]
  },
  {
   "cell_type": "code",
   "execution_count": 18,
   "metadata": {},
   "outputs": [
    {
     "data": {
      "text/html": [
       "<div>\n",
       "<style scoped>\n",
       "    .dataframe tbody tr th:only-of-type {\n",
       "        vertical-align: middle;\n",
       "    }\n",
       "\n",
       "    .dataframe tbody tr th {\n",
       "        vertical-align: top;\n",
       "    }\n",
       "\n",
       "    .dataframe thead th {\n",
       "        text-align: right;\n",
       "    }\n",
       "</style>\n",
       "<table border=\"1\" class=\"dataframe\">\n",
       "  <thead>\n",
       "    <tr style=\"text-align: right;\">\n",
       "      <th></th>\n",
       "      <th>vol</th>\n",
       "      <th>dormancy</th>\n",
       "      <th>asopr</th>\n",
       "      <th>price</th>\n",
       "      <th>flow</th>\n",
       "      <th>cdd</th>\n",
       "    </tr>\n",
       "    <tr>\n",
       "      <th>date</th>\n",
       "      <th></th>\n",
       "      <th></th>\n",
       "      <th></th>\n",
       "      <th></th>\n",
       "      <th></th>\n",
       "      <th></th>\n",
       "    </tr>\n",
       "  </thead>\n",
       "  <tbody>\n",
       "    <tr>\n",
       "      <th>2011-08-17</th>\n",
       "      <td>3.230502e+05</td>\n",
       "      <td>2.860031</td>\n",
       "      <td>1.023796</td>\n",
       "      <td>10.993067</td>\n",
       "      <td>0.007500</td>\n",
       "      <td>9.222607e+05</td>\n",
       "    </tr>\n",
       "    <tr>\n",
       "      <th>2011-08-18</th>\n",
       "      <td>4.002768e+05</td>\n",
       "      <td>3.039587</td>\n",
       "      <td>1.018691</td>\n",
       "      <td>10.847018</td>\n",
       "      <td>8.049029</td>\n",
       "      <td>1.214820e+06</td>\n",
       "    </tr>\n",
       "    <tr>\n",
       "      <th>2011-08-19</th>\n",
       "      <td>5.561058e+05</td>\n",
       "      <td>1.548021</td>\n",
       "      <td>1.009232</td>\n",
       "      <td>11.650000</td>\n",
       "      <td>39.591418</td>\n",
       "      <td>8.595439e+05</td>\n",
       "    </tr>\n",
       "    <tr>\n",
       "      <th>2011-08-20</th>\n",
       "      <td>2.246163e+05</td>\n",
       "      <td>3.934542</td>\n",
       "      <td>1.026221</td>\n",
       "      <td>11.450998</td>\n",
       "      <td>-8.048029</td>\n",
       "      <td>8.800028e+05</td>\n",
       "    </tr>\n",
       "    <tr>\n",
       "      <th>2011-08-21</th>\n",
       "      <td>2.428926e+05</td>\n",
       "      <td>1.686685</td>\n",
       "      <td>0.993798</td>\n",
       "      <td>11.323212</td>\n",
       "      <td>1.819000</td>\n",
       "      <td>4.080212e+05</td>\n",
       "    </tr>\n",
       "    <tr>\n",
       "      <th>...</th>\n",
       "      <td>...</td>\n",
       "      <td>...</td>\n",
       "      <td>...</td>\n",
       "      <td>...</td>\n",
       "      <td>...</td>\n",
       "      <td>...</td>\n",
       "    </tr>\n",
       "    <tr>\n",
       "      <th>2021-05-07</th>\n",
       "      <td>1.939428e+06</td>\n",
       "      <td>32.867983</td>\n",
       "      <td>1.105494</td>\n",
       "      <td>57369.557999</td>\n",
       "      <td>-9521.999293</td>\n",
       "      <td>2.461146e+07</td>\n",
       "    </tr>\n",
       "    <tr>\n",
       "      <th>2021-05-08</th>\n",
       "      <td>1.376119e+06</td>\n",
       "      <td>15.760862</td>\n",
       "      <td>1.043171</td>\n",
       "      <td>58766.584875</td>\n",
       "      <td>4660.610461</td>\n",
       "      <td>6.680947e+06</td>\n",
       "    </tr>\n",
       "    <tr>\n",
       "      <th>2021-05-09</th>\n",
       "      <td>1.085785e+06</td>\n",
       "      <td>22.308682</td>\n",
       "      <td>1.040930</td>\n",
       "      <td>58218.566077</td>\n",
       "      <td>7775.009119</td>\n",
       "      <td>9.067803e+06</td>\n",
       "    </tr>\n",
       "    <tr>\n",
       "      <th>2021-05-10</th>\n",
       "      <td>1.412837e+06</td>\n",
       "      <td>16.661084</td>\n",
       "      <td>1.030398</td>\n",
       "      <td>55824.861667</td>\n",
       "      <td>3975.683911</td>\n",
       "      <td>1.016189e+07</td>\n",
       "    </tr>\n",
       "    <tr>\n",
       "      <th>2021-05-11</th>\n",
       "      <td>1.204164e+06</td>\n",
       "      <td>14.106913</td>\n",
       "      <td>1.010814</td>\n",
       "      <td>56714.088910</td>\n",
       "      <td>-7455.401826</td>\n",
       "      <td>7.254929e+06</td>\n",
       "    </tr>\n",
       "  </tbody>\n",
       "</table>\n",
       "<p>3556 rows × 6 columns</p>\n",
       "</div>"
      ],
      "text/plain": [
       "                     vol   dormancy     asopr         price         flow  \\\n",
       "date                                                                       \n",
       "2011-08-17  3.230502e+05   2.860031  1.023796     10.993067     0.007500   \n",
       "2011-08-18  4.002768e+05   3.039587  1.018691     10.847018     8.049029   \n",
       "2011-08-19  5.561058e+05   1.548021  1.009232     11.650000    39.591418   \n",
       "2011-08-20  2.246163e+05   3.934542  1.026221     11.450998    -8.048029   \n",
       "2011-08-21  2.428926e+05   1.686685  0.993798     11.323212     1.819000   \n",
       "...                  ...        ...       ...           ...          ...   \n",
       "2021-05-07  1.939428e+06  32.867983  1.105494  57369.557999 -9521.999293   \n",
       "2021-05-08  1.376119e+06  15.760862  1.043171  58766.584875  4660.610461   \n",
       "2021-05-09  1.085785e+06  22.308682  1.040930  58218.566077  7775.009119   \n",
       "2021-05-10  1.412837e+06  16.661084  1.030398  55824.861667  3975.683911   \n",
       "2021-05-11  1.204164e+06  14.106913  1.010814  56714.088910 -7455.401826   \n",
       "\n",
       "                     cdd  \n",
       "date                      \n",
       "2011-08-17  9.222607e+05  \n",
       "2011-08-18  1.214820e+06  \n",
       "2011-08-19  8.595439e+05  \n",
       "2011-08-20  8.800028e+05  \n",
       "2011-08-21  4.080212e+05  \n",
       "...                  ...  \n",
       "2021-05-07  2.461146e+07  \n",
       "2021-05-08  6.680947e+06  \n",
       "2021-05-09  9.067803e+06  \n",
       "2021-05-10  1.016189e+07  \n",
       "2021-05-11  7.254929e+06  \n",
       "\n",
       "[3556 rows x 6 columns]"
      ]
     },
     "execution_count": 18,
     "metadata": {},
     "output_type": "execute_result"
    }
   ],
   "source": [
    "dataset"
   ]
  },
  {
   "cell_type": "code",
   "execution_count": 19,
   "metadata": {},
   "outputs": [],
   "source": [
    "# dataset['diff'] = dataset['price'].pct_change()\n",
    "# dataset.drop(columns='price', inplace=True)\n",
    "# dataset.dropna(inplace=True)\n",
    "# dataset"
   ]
  },
  {
   "cell_type": "code",
   "execution_count": 20,
   "metadata": {},
   "outputs": [],
   "source": [
    "def window_data(df, window, target_column):\n",
    "    Xdf = df\n",
    "    ydf = df[target_column]\n",
    "    X, y = [], []\n",
    "    for i in range(len(Xdf)-window):\n",
    "        features = Xdf[i:i+window]\n",
    "        X.append(features)\n",
    "    for i in range(len(ydf)-window):\n",
    "        target = ydf[i+window]\n",
    "        y.append(target)\n",
    "    return np.array(X), np.array(y).reshape(-1,1)\n",
    "    \n",
    "    \n",
    "    "
   ]
  },
  {
   "cell_type": "code",
   "execution_count": 21,
   "metadata": {},
   "outputs": [],
   "source": [
    "X, y = window_data(data_new, 20, \"price\")"
   ]
  },
  {
   "cell_type": "code",
   "execution_count": 22,
   "metadata": {},
   "outputs": [],
   "source": [
    "split = int(0.8 * len(X))\n",
    "X_train = X[: split]\n",
    "X_test = X[split:]\n",
    "y_train = y[: split]\n",
    "y_test = y[split:]"
   ]
  },
  {
   "cell_type": "code",
   "execution_count": 23,
   "metadata": {},
   "outputs": [],
   "source": [
    "scalers = {}\n",
    "for i in range(X_train.shape[1]):\n",
    "    scalers[i] = MinMaxScaler()\n",
    "    X_train[:, i, :] = scalers[i].fit_transform(X_train[:, i, :]) \n",
    "for i in range(X_test.shape[1]):\n",
    "    X_test[:, i, :] = scalers[i].transform(X_test[:, i, :])"
   ]
  },
  {
   "cell_type": "code",
   "execution_count": 24,
   "metadata": {},
   "outputs": [
    {
     "data": {
      "text/plain": [
       "(461, 20, 6)"
      ]
     },
     "execution_count": 24,
     "metadata": {},
     "output_type": "execute_result"
    }
   ],
   "source": [
    "X_test.shape"
   ]
  },
  {
   "cell_type": "code",
   "execution_count": 25,
   "metadata": {},
   "outputs": [],
   "source": [
    "sc = MinMaxScaler()\n",
    "sc.fit(y)\n",
    "y_train = sc.transform(y_train)\n",
    "y_test = sc.transform(y_test)"
   ]
  },
  {
   "cell_type": "code",
   "execution_count": 26,
   "metadata": {},
   "outputs": [
    {
     "name": "stdout",
     "output_type": "stream",
     "text": [
      "Epoch 1/10\n",
      "1657/1657 [==============================] - 13s 6ms/step - loss: 0.0023 - val_loss: 3.4423e-04\n",
      "Epoch 2/10\n",
      "1657/1657 [==============================] - 11s 7ms/step - loss: 3.5948e-04 - val_loss: 4.9880e-05\n",
      "Epoch 3/10\n",
      "1657/1657 [==============================] - 9s 6ms/step - loss: 3.3264e-04 - val_loss: 1.8937e-04\n",
      "Epoch 4/10\n",
      "1657/1657 [==============================] - 9s 6ms/step - loss: 3.1376e-04 - val_loss: 2.3302e-05\n",
      "Epoch 5/10\n",
      "1657/1657 [==============================] - 9s 6ms/step - loss: 2.0317e-04 - val_loss: 2.8577e-05\n",
      "Epoch 6/10\n",
      "1657/1657 [==============================] - 9s 5ms/step - loss: 2.0481e-04 - val_loss: 1.7440e-04\n",
      "Epoch 7/10\n",
      "1657/1657 [==============================] - 9s 6ms/step - loss: 1.6263e-04 - val_loss: 2.9751e-04\n",
      "Epoch 8/10\n",
      "1657/1657 [==============================] - 9s 5ms/step - loss: 2.0090e-04 - val_loss: 2.0121e-05\n",
      "Epoch 9/10\n",
      "1657/1657 [==============================] - 7s 4ms/step - loss: 1.6952e-04 - val_loss: 9.9401e-05\n",
      "Epoch 10/10\n",
      "1657/1657 [==============================] - 7s 4ms/step - loss: 1.8130e-04 - val_loss: 5.7778e-05\n"
     ]
    }
   ],
   "source": [
    "#GRU model\n",
    "model = Sequential()\n",
    "epochs = 10\n",
    "model.add(GRU(100, return_sequences=True, input_shape=(X_train.shape[1],6)))\n",
    "model.add(Dropout(0.2))\n",
    "model.add(GRU(64))\n",
    "model.add(Dropout(0.1))\n",
    "model.add(Dense(32))\n",
    "model.add(Dropout(0.2))\n",
    "model.add(Dense(1))\n",
    "model.compile(loss=\"mse\", optimizer=\"adam\")\n",
    "fit = model.fit(X_train, y_train, batch_size=1, epochs = epochs, validation_split=.1)"
   ]
  },
  {
   "cell_type": "code",
   "execution_count": 27,
   "metadata": {},
   "outputs": [
    {
     "name": "stdout",
     "output_type": "stream",
     "text": [
      "Model: \"sequential\"\n",
      "_________________________________________________________________\n",
      "Layer (type)                 Output Shape              Param #   \n",
      "=================================================================\n",
      "gru (GRU)                    (None, 20, 100)           32400     \n",
      "_________________________________________________________________\n",
      "dropout (Dropout)            (None, 20, 100)           0         \n",
      "_________________________________________________________________\n",
      "gru_1 (GRU)                  (None, 64)                31872     \n",
      "_________________________________________________________________\n",
      "dropout_1 (Dropout)          (None, 64)                0         \n",
      "_________________________________________________________________\n",
      "dense (Dense)                (None, 32)                2080      \n",
      "_________________________________________________________________\n",
      "dropout_2 (Dropout)          (None, 32)                0         \n",
      "_________________________________________________________________\n",
      "dense_1 (Dense)              (None, 1)                 33        \n",
      "=================================================================\n",
      "Total params: 66,385\n",
      "Trainable params: 66,385\n",
      "Non-trainable params: 0\n",
      "_________________________________________________________________\n"
     ]
    }
   ],
   "source": [
    "model.summary()"
   ]
  },
  {
   "cell_type": "code",
   "execution_count": 28,
   "metadata": {},
   "outputs": [
    {
     "data": {
      "image/png": "[encoded data removed]",
      "text/plain": [
       "<Figure size 432x288 with 1 Axes>"
      ]
     },
     "metadata": {
      "needs_background": "light"
     },
     "output_type": "display_data"
    }
   ],
   "source": [
    "#Plot train vs validation loss\n",
    "plt.plot(fit.history['loss'])\n",
    "plt.plot(fit.history['val_loss'])\n",
    "plt.title('train vs validation loss')\n",
    "plt.ylabel('loss')\n",
    "plt.xlabel('epochs')\n",
    "plt.legend(['train', 'validation'], loc='upper right')\n",
    "plt.show()"
   ]
  },
  {
   "cell_type": "code",
   "execution_count": 29,
   "metadata": {},
   "outputs": [
    {
     "name": "stdout",
     "output_type": "stream",
     "text": [
      "15/15 [==============================] - 0s 3ms/step - loss: 0.0056\n"
     ]
    },
    {
     "data": {
      "text/plain": [
       "0.0056068082340061665"
      ]
     },
     "execution_count": 29,
     "metadata": {},
     "output_type": "execute_result"
    }
   ],
   "source": [
    "model.evaluate(X_test, y_test)"
   ]
  },
  {
   "cell_type": "code",
   "execution_count": 30,
   "metadata": {},
   "outputs": [
    {
     "data": {
      "text/plain": [
       "(461, 1)"
      ]
     },
     "execution_count": 30,
     "metadata": {},
     "output_type": "execute_result"
    }
   ],
   "source": [
    "predicted = model.predict(X_test)\n",
    "predicted.shape"
   ]
  },
  {
   "cell_type": "code",
   "execution_count": 31,
   "metadata": {},
   "outputs": [
    {
     "data": {
      "text/plain": [
       "0.0056068073499374845"
      ]
     },
     "execution_count": 31,
     "metadata": {},
     "output_type": "execute_result"
    }
   ],
   "source": [
    "mse = mean_squared_error(y_test, predicted)\n",
    "mse"
   ]
  },
  {
   "cell_type": "code",
   "execution_count": 32,
   "metadata": {},
   "outputs": [
    {
     "data": {
      "text/plain": [
       "0.07487861744141304"
      ]
     },
     "execution_count": 32,
     "metadata": {},
     "output_type": "execute_result"
    }
   ],
   "source": [
    "np.sqrt(mse)"
   ]
  },
  {
   "cell_type": "code",
   "execution_count": 33,
   "metadata": {},
   "outputs": [],
   "source": [
    "predicted_close = sc.inverse_transform(predicted)\n",
    "actual_close = sc.inverse_transform(y_test.reshape(-1, 1))"
   ]
  },
  {
   "cell_type": "code",
   "execution_count": 35,
   "metadata": {},
   "outputs": [
    {
     "data": {
      "text/plain": [
       "<AxesSubplot:xlabel='date'>"
      ]
     },
     "execution_count": 35,
     "metadata": {},
     "output_type": "execute_result"
    },
    {
     "data": {
      "image/png": "[encoded data removed]",
      "text/plain": [
       "<Figure size 432x288 with 1 Axes>"
      ]
     },
     "metadata": {
      "needs_background": "light"
     },
     "output_type": "display_data"
    }
   ],
   "source": [
    "results_df = pd.DataFrame({\n",
    "    'actual_close': actual_close.ravel(),\n",
    "    \"predicted_close\": predicted_close.ravel()\n",
    "    }, index = data_new.index[-len(actual_close): ])\n",
    "results_df.plot()"
   ]
  },
  {
   "cell_type": "code",
   "execution_count": 36,
   "metadata": {},
   "outputs": [
    {
     "data": {
      "text/html": [
       "<div>\n",
       "<style scoped>\n",
       "    .dataframe tbody tr th:only-of-type {\n",
       "        vertical-align: middle;\n",
       "    }\n",
       "\n",
       "    .dataframe tbody tr th {\n",
       "        vertical-align: top;\n",
       "    }\n",
       "\n",
       "    .dataframe thead th {\n",
       "        text-align: right;\n",
       "    }\n",
       "</style>\n",
       "<table border=\"1\" class=\"dataframe\">\n",
       "  <thead>\n",
       "    <tr style=\"text-align: right;\">\n",
       "      <th></th>\n",
       "      <th>date</th>\n",
       "      <th>open</th>\n",
       "      <th>high</th>\n",
       "      <th>low</th>\n",
       "      <th>close</th>\n",
       "      <th>actual_close</th>\n",
       "      <th>predicted_close</th>\n",
       "      <th>predicted_perc_change</th>\n",
       "    </tr>\n",
       "  </thead>\n",
       "  <tbody>\n",
       "    <tr>\n",
       "      <th>455</th>\n",
       "      <td>2021-05-07</td>\n",
       "      <td>56413.953551</td>\n",
       "      <td>58516.499418</td>\n",
       "      <td>55404.680358</td>\n",
       "      <td>57369.557999</td>\n",
       "      <td>57369.557999</td>\n",
       "      <td>38853.117188</td>\n",
       "      <td>-0.272838</td>\n",
       "    </tr>\n",
       "    <tr>\n",
       "      <th>456</th>\n",
       "      <td>2021-05-08</td>\n",
       "      <td>57352.765953</td>\n",
       "      <td>59454.684237</td>\n",
       "      <td>57061.019638</td>\n",
       "      <td>58766.584875</td>\n",
       "      <td>58766.584875</td>\n",
       "      <td>53154.832031</td>\n",
       "      <td>0.368097</td>\n",
       "    </tr>\n",
       "    <tr>\n",
       "      <th>457</th>\n",
       "      <td>2021-05-09</td>\n",
       "      <td>58949.175691</td>\n",
       "      <td>59210.881789</td>\n",
       "      <td>56594.240801</td>\n",
       "      <td>58218.566077</td>\n",
       "      <td>58218.566077</td>\n",
       "      <td>43148.421875</td>\n",
       "      <td>-0.188250</td>\n",
       "    </tr>\n",
       "    <tr>\n",
       "      <th>458</th>\n",
       "      <td>2021-05-10</td>\n",
       "      <td>58313.694230</td>\n",
       "      <td>59463.950585</td>\n",
       "      <td>54558.287582</td>\n",
       "      <td>55824.861667</td>\n",
       "      <td>55824.861667</td>\n",
       "      <td>50087.496094</td>\n",
       "      <td>0.160819</td>\n",
       "    </tr>\n",
       "    <tr>\n",
       "      <th>459</th>\n",
       "      <td>2021-05-11</td>\n",
       "      <td>55828.260785</td>\n",
       "      <td>56870.394152</td>\n",
       "      <td>54696.374470</td>\n",
       "      <td>56714.088910</td>\n",
       "      <td>56714.088910</td>\n",
       "      <td>42308.691406</td>\n",
       "      <td>-0.155304</td>\n",
       "    </tr>\n",
       "  </tbody>\n",
       "</table>\n",
       "</div>"
      ],
      "text/plain": [
       "          date          open          high           low         close  \\\n",
       "455 2021-05-07  56413.953551  58516.499418  55404.680358  57369.557999   \n",
       "456 2021-05-08  57352.765953  59454.684237  57061.019638  58766.584875   \n",
       "457 2021-05-09  58949.175691  59210.881789  56594.240801  58218.566077   \n",
       "458 2021-05-10  58313.694230  59463.950585  54558.287582  55824.861667   \n",
       "459 2021-05-11  55828.260785  56870.394152  54696.374470  56714.088910   \n",
       "\n",
       "     actual_close  predicted_close  predicted_perc_change  \n",
       "455  57369.557999     38853.117188              -0.272838  \n",
       "456  58766.584875     53154.832031               0.368097  \n",
       "457  58218.566077     43148.421875              -0.188250  \n",
       "458  55824.861667     50087.496094               0.160819  \n",
       "459  56714.088910     42308.691406              -0.155304  "
      ]
     },
     "execution_count": 36,
     "metadata": {},
     "output_type": "execute_result"
    }
   ],
   "source": [
    "results_prices_df = pd.concat([ohlc_df, results_df], axis=1, join='inner')\n",
    "results_prices_df['predicted_perc_change'] = results_prices_df['predicted_close'].pct_change()\n",
    "results_prices_df.dropna(inplace=True)\n",
    "results_prices_df.reset_index(inplace=True)\n",
    "results_prices_df.tail()"
   ]
  },
  {
   "cell_type": "code",
   "execution_count": 37,
   "metadata": {},
   "outputs": [
    {
     "name": "stdout",
     "output_type": "stream",
     "text": [
      "25864.497413446938\n",
      "0\n",
      "69\n",
      "76\n"
     ]
    },
    {
     "data": {
      "text/html": [
       "<div>\n",
       "<style scoped>\n",
       "    .dataframe tbody tr th:only-of-type {\n",
       "        vertical-align: middle;\n",
       "    }\n",
       "\n",
       "    .dataframe tbody tr th {\n",
       "        vertical-align: top;\n",
       "    }\n",
       "\n",
       "    .dataframe thead th {\n",
       "        text-align: right;\n",
       "    }\n",
       "</style>\n",
       "<table border=\"1\" class=\"dataframe\">\n",
       "  <thead>\n",
       "    <tr style=\"text-align: right;\">\n",
       "      <th></th>\n",
       "      <th>Buy Price</th>\n",
       "      <th>Sell Price</th>\n",
       "      <th>Return</th>\n",
       "      <th>Cumulative Returns</th>\n",
       "    </tr>\n",
       "  </thead>\n",
       "  <tbody>\n",
       "    <tr>\n",
       "      <th>0</th>\n",
       "      <td>9793.070420</td>\n",
       "      <td>9863.894881</td>\n",
       "      <td>70.824461</td>\n",
       "      <td>70.824461</td>\n",
       "    </tr>\n",
       "    <tr>\n",
       "      <th>1</th>\n",
       "      <td>10115.559686</td>\n",
       "      <td>10211.550389</td>\n",
       "      <td>95.990703</td>\n",
       "      <td>166.815165</td>\n",
       "    </tr>\n",
       "    <tr>\n",
       "      <th>2</th>\n",
       "      <td>10313.856837</td>\n",
       "      <td>9889.179705</td>\n",
       "      <td>-424.677132</td>\n",
       "      <td>-257.861967</td>\n",
       "    </tr>\n",
       "    <tr>\n",
       "      <th>3</th>\n",
       "      <td>9936.560260</td>\n",
       "      <td>9691.230945</td>\n",
       "      <td>-245.329315</td>\n",
       "      <td>-503.191282</td>\n",
       "    </tr>\n",
       "    <tr>\n",
       "      <th>4</th>\n",
       "      <td>10143.798357</td>\n",
       "      <td>9629.325310</td>\n",
       "      <td>-514.473046</td>\n",
       "      <td>-1017.664329</td>\n",
       "    </tr>\n",
       "    <tr>\n",
       "      <th>...</th>\n",
       "      <td>...</td>\n",
       "      <td>...</td>\n",
       "      <td>...</td>\n",
       "      <td>...</td>\n",
       "    </tr>\n",
       "    <tr>\n",
       "      <th>140</th>\n",
       "      <td>54849.705085</td>\n",
       "      <td>53527.376237</td>\n",
       "      <td>-1322.328849</td>\n",
       "      <td>24728.316853</td>\n",
       "    </tr>\n",
       "    <tr>\n",
       "      <th>141</th>\n",
       "      <td>57557.542771</td>\n",
       "      <td>57808.797127</td>\n",
       "      <td>251.254356</td>\n",
       "      <td>24979.571209</td>\n",
       "    </tr>\n",
       "    <tr>\n",
       "      <th>142</th>\n",
       "      <td>56623.037367</td>\n",
       "      <td>57045.342677</td>\n",
       "      <td>422.305310</td>\n",
       "      <td>25401.876519</td>\n",
       "    </tr>\n",
       "    <tr>\n",
       "      <th>143</th>\n",
       "      <td>57547.742395</td>\n",
       "      <td>56413.953551</td>\n",
       "      <td>-1133.788843</td>\n",
       "      <td>24268.087675</td>\n",
       "    </tr>\n",
       "    <tr>\n",
       "      <th>144</th>\n",
       "      <td>57352.765953</td>\n",
       "      <td>58949.175691</td>\n",
       "      <td>1596.409738</td>\n",
       "      <td>25864.497413</td>\n",
       "    </tr>\n",
       "  </tbody>\n",
       "</table>\n",
       "<p>145 rows × 4 columns</p>\n",
       "</div>"
      ],
      "text/plain": [
       "        Buy Price    Sell Price       Return  Cumulative Returns\n",
       "0     9793.070420   9863.894881    70.824461           70.824461\n",
       "1    10115.559686  10211.550389    95.990703          166.815165\n",
       "2    10313.856837   9889.179705  -424.677132         -257.861967\n",
       "3     9936.560260   9691.230945  -245.329315         -503.191282\n",
       "4    10143.798357   9629.325310  -514.473046        -1017.664329\n",
       "..            ...           ...          ...                 ...\n",
       "140  54849.705085  53527.376237 -1322.328849        24728.316853\n",
       "141  57557.542771  57808.797127   251.254356        24979.571209\n",
       "142  56623.037367  57045.342677   422.305310        25401.876519\n",
       "143  57547.742395  56413.953551 -1133.788843        24268.087675\n",
       "144  57352.765953  58949.175691  1596.409738        25864.497413\n",
       "\n",
       "[145 rows x 4 columns]"
      ]
     },
     "execution_count": 37,
     "metadata": {},
     "output_type": "execute_result"
    }
   ],
   "source": [
    "position=0\n",
    "realized_profit = 0\n",
    "unrealized_profit = 0 \n",
    "profitable_transactions=0\n",
    "unprofitable_transactions=0\n",
    "transaction_list = []\n",
    "data_size = len(results_prices_df.index)\n",
    "\n",
    "for index, value in results_prices_df.iterrows():\n",
    "    if index<data_size-1 and index > 0:\n",
    "        \n",
    "        open_price = results_prices_df.iloc[index][1]\n",
    "        close_price = results_prices_df.iloc[index][4]\n",
    "        yest_close_price = results_prices_df.iloc[index-1][4]\n",
    "        perc_change = results_prices_df.iloc[index][7]\n",
    "\n",
    "        if position == 1:\n",
    "            unrealized_profit = yest_close_price - buy_price\n",
    "        if perc_change > 0:\n",
    "            if position == 0:\n",
    "                buy_price = open_price\n",
    "                position = 1\n",
    "        if perc_change < 0:\n",
    "            if position ==1:\n",
    "                sell_price = open_price\n",
    "                position = 0\n",
    "                trans_profit = sell_price-buy_price\n",
    "                unrealized_profit = 0 \n",
    "                realized_profit += trans_profit\n",
    "                transaction_list.append({'Buy Price': buy_price, 'Sell Price': sell_price})\n",
    "                if trans_profit>=0:\n",
    "                    profitable_transactions+=1\n",
    "                else:\n",
    "                    unprofitable_transactions+=1\n",
    "\n",
    "            \n",
    "            \n",
    "            \n",
    "print(realized_profit)\n",
    "print(unrealized_profit)\n",
    "print(profitable_transactions)\n",
    "print(unprofitable_transactions)\n",
    "transaction_df = pd.DataFrame(transaction_list)\n",
    "transaction_df['Return'] = transaction_df['Sell Price'] - transaction_df['Buy Price']\n",
    "transaction_df['Cumulative Returns'] = transaction_df['Return'].cumsum()\n",
    "transaction_df\n"
   ]
  },
  {
   "cell_type": "code",
   "execution_count": 38,
   "metadata": {},
   "outputs": [
    {
     "data": {
      "image/png": "[encoded data removed]",
      "text/plain": [
       "<Figure size 432x288 with 1 Axes>"
      ]
     },
     "metadata": {
      "needs_background": "light"
     },
     "output_type": "display_data"
    }
   ],
   "source": [
    "plt.plot(transaction_df['Cumulative Returns'])\n",
    "plt.ylabel('$')\n",
    "plt.xlabel('trades')\n",
    "plt.title('Cumulative Returns of Trading Strategy')\n",
    "plt.show()"
   ]
  },
  {
   "cell_type": "code",
   "execution_count": null,
   "metadata": {},
   "outputs": [],
   "source": []
  }
 ],
 "metadata": {
  "kernelspec": {
   "display_name": "Python [conda env:mlenv] *",
   "language": "python",
   "name": "conda-env-mlenv-py"
  },
  "language_info": {
   "codemirror_mode": {
    "name": "ipython",
    "version": 3
   },
   "file_extension": ".py",
   "mimetype": "text/x-python",
   "name": "python",
   "nbconvert_exporter": "python",
   "pygments_lexer": "ipython3",
   "version": "3.7.9"
  }
 },
 "nbformat": 4,
 "nbformat_minor": 4
}
