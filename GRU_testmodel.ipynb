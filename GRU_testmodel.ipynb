{
 "cells": [
  {
   "cell_type": "code",
   "execution_count": null,
   "metadata": {},
   "outputs": [],
   "source": [
    "##Test"
   ]
  },
  {
   "cell_type": "code",
   "execution_count": 1,
   "metadata": {},
   "outputs": [],
   "source": [
    "#Import Libraries\n",
    "import requests\n",
    "import json\n",
    "import pandas as pd\n",
    "from sklearn.preprocessing import MinMaxScaler\n",
    "from tensorflow.keras.models import Sequential\n",
    "from tensorflow.keras.layers import GRU, Dense, Dropout\n",
    "from sklearn.metrics import mean_squared_error\n",
    "import numpy as np"
   ]
  },
  {
   "cell_type": "code",
   "execution_count": 2,
   "metadata": {},
   "outputs": [],
   "source": [
    "from numpy.random import seed\n",
    "\n",
    "seed(1)\n",
    "from tensorflow import random\n",
    "\n",
    "random.set_seed(2)"
   ]
  },
  {
   "cell_type": "code",
   "execution_count": 3,
   "metadata": {},
   "outputs": [],
   "source": [
    "#Pull factors and BTC price from Glassnode Api\n",
    "API_KEY = \"1rwUpyBLJnEo1qGTFlLuz1CgeTx\"\n",
    "vol = requests.get('https://api.glassnode.com/v1/metrics/transactions/transfers_volume_sum',\n",
    "    params={'a': 'BTC', 'api_key': API_KEY})\n",
    "\n",
    "# convert to pandas dataframe\n",
    "vol_df = pd.read_json(vol.text, convert_dates=['t'])\n",
    "\n",
    "dorm = requests.get('https://api.glassnode.com/v1/metrics/indicators/average_dormancy',\n",
    "    params={'a': 'BTC', 'api_key': API_KEY})\n",
    "\n",
    "# convert to pandas dataframe\n",
    "dormancy_df = pd.read_json(dorm.text, convert_dates=['t'])\n",
    "\n",
    "# make API request\n",
    "asopr = requests.get('https://api.glassnode.com/v1/metrics/indicators/sopr_adjusted',\n",
    "    params={'a': 'BTC', 'api_key': API_KEY})\n",
    "\n",
    "# convert to pandas dataframe\n",
    "asopr_df = pd.read_json(asopr.text, convert_dates=['t'])\n",
    "asopr_df.head()\n",
    "\n",
    "# make API request\n",
    "price_res = requests.get('https://api.glassnode.com/v1/metrics/market/price_usd_close',\n",
    "    params={'a': 'BTC', 'api_key': API_KEY})\n",
    "\n",
    "# convert to pandas dataframe\n",
    "price_df = pd.read_json(price_res.text, convert_dates=['t'])\n",
    "\n",
    "# make API request\n",
    "exch_flow = requests.get('https://api.glassnode.com/v1/metrics/transactions/transfers_volume_exchanges_net',\n",
    "    params={'a': 'BTC', 'api_key': API_KEY})\n",
    "\n",
    "# convert to pandas dataframe\n",
    "exch_df = pd.read_json(exch_flow.text, convert_dates=['t'])\n",
    "\n",
    "# make API request\n",
    "cdd = requests.get('https://api.glassnode.com/v1/metrics/indicators/cdd',\n",
    "    params={'a': 'BTC', 'api_key': API_KEY})\n",
    "\n",
    "# convert to pandas dataframe\n",
    "cdd_df = pd.read_json(cdd.text, convert_dates=['t'])\n",
    "\n"
   ]
  },
  {
   "cell_type": "code",
   "execution_count": 4,
   "metadata": {},
   "outputs": [],
   "source": [
    "vol_df.rename(columns = {'t':'date', 'v':'vol'}, inplace=True)\n",
    "vol_df.set_index('date', inplace=True)\n"
   ]
  },
  {
   "cell_type": "code",
   "execution_count": 5,
   "metadata": {},
   "outputs": [],
   "source": [
    "dormancy_df.rename(columns = {'t':'date', 'v':'dormancy'}, inplace=True)\n",
    "dormancy_df.set_index('date', inplace=True)\n"
   ]
  },
  {
   "cell_type": "code",
   "execution_count": 6,
   "metadata": {},
   "outputs": [],
   "source": [
    "asopr_df.rename(columns = {'t':'date', 'v':'asopr'}, inplace=True)\n",
    "asopr_df.set_index('date', inplace=True)"
   ]
  },
  {
   "cell_type": "code",
   "execution_count": 7,
   "metadata": {},
   "outputs": [],
   "source": [
    "price_df.rename(columns = {'t':'date', 'v':'price'}, inplace=True)\n",
    "price_df.set_index('date', inplace=True)"
   ]
  },
  {
   "cell_type": "code",
   "execution_count": 8,
   "metadata": {},
   "outputs": [],
   "source": [
    "exch_df.rename(columns = {'t':'date', 'v':'flow'}, inplace=True)\n",
    "exch_df.set_index('date', inplace=True)"
   ]
  },
  {
   "cell_type": "code",
   "execution_count": 9,
   "metadata": {},
   "outputs": [],
   "source": [
    "cdd_df.rename(columns = {'t':'date', 'v':'cdd'}, inplace=True)\n",
    "cdd_df.set_index('date', inplace=True)"
   ]
  },
  {
   "cell_type": "code",
   "execution_count": 10,
   "metadata": {},
   "outputs": [],
   "source": [
    "dataset = pd.concat([vol_df, dormancy_df, asopr_df, price_df, exch_df, cdd_df], axis=1, join='inner')"
   ]
  },
  {
   "cell_type": "code",
   "execution_count": 11,
   "metadata": {},
   "outputs": [],
   "source": [
    "dataset.dropna(inplace=True)"
   ]
  },
  {
   "cell_type": "code",
   "execution_count": 12,
   "metadata": {},
   "outputs": [
    {
     "data": {
      "text/plain": [
       "(3554, 6)"
      ]
     },
     "execution_count": 12,
     "metadata": {},
     "output_type": "execute_result"
    }
   ],
   "source": [
    "dataset.shape"
   ]
  },
  {
   "cell_type": "code",
   "execution_count": 13,
   "metadata": {},
   "outputs": [
    {
     "data": {
      "text/html": [
       "<div>\n",
       "<style scoped>\n",
       "    .dataframe tbody tr th:only-of-type {\n",
       "        vertical-align: middle;\n",
       "    }\n",
       "\n",
       "    .dataframe tbody tr th {\n",
       "        vertical-align: top;\n",
       "    }\n",
       "\n",
       "    .dataframe thead th {\n",
       "        text-align: right;\n",
       "    }\n",
       "</style>\n",
       "<table border=\"1\" class=\"dataframe\">\n",
       "  <thead>\n",
       "    <tr style=\"text-align: right;\">\n",
       "      <th></th>\n",
       "      <th>vol</th>\n",
       "      <th>dormancy</th>\n",
       "      <th>asopr</th>\n",
       "      <th>price</th>\n",
       "      <th>flow</th>\n",
       "      <th>cdd</th>\n",
       "    </tr>\n",
       "    <tr>\n",
       "      <th>date</th>\n",
       "      <th></th>\n",
       "      <th></th>\n",
       "      <th></th>\n",
       "      <th></th>\n",
       "      <th></th>\n",
       "      <th></th>\n",
       "    </tr>\n",
       "  </thead>\n",
       "  <tbody>\n",
       "    <tr>\n",
       "      <th>2015-01-01</th>\n",
       "      <td>4.646205e+05</td>\n",
       "      <td>2.302504</td>\n",
       "      <td>0.987951</td>\n",
       "      <td>314.025456</td>\n",
       "      <td>124.391488</td>\n",
       "      <td>9.468414e+05</td>\n",
       "    </tr>\n",
       "    <tr>\n",
       "      <th>2015-01-02</th>\n",
       "      <td>7.280903e+05</td>\n",
       "      <td>2.879840</td>\n",
       "      <td>0.978582</td>\n",
       "      <td>315.687161</td>\n",
       "      <td>790.763344</td>\n",
       "      <td>1.942400e+06</td>\n",
       "    </tr>\n",
       "    <tr>\n",
       "      <th>2015-01-03</th>\n",
       "      <td>8.367299e+05</td>\n",
       "      <td>6.160422</td>\n",
       "      <td>0.923681</td>\n",
       "      <td>283.006535</td>\n",
       "      <td>4634.540821</td>\n",
       "      <td>4.768928e+06</td>\n",
       "    </tr>\n",
       "    <tr>\n",
       "      <th>2015-01-04</th>\n",
       "      <td>1.129690e+06</td>\n",
       "      <td>6.023914</td>\n",
       "      <td>0.915979</td>\n",
       "      <td>263.807883</td>\n",
       "      <td>-897.057854</td>\n",
       "      <td>5.944678e+06</td>\n",
       "    </tr>\n",
       "    <tr>\n",
       "      <th>2015-01-05</th>\n",
       "      <td>1.134569e+06</td>\n",
       "      <td>4.854263</td>\n",
       "      <td>0.901450</td>\n",
       "      <td>276.800000</td>\n",
       "      <td>7898.518534</td>\n",
       "      <td>5.045935e+06</td>\n",
       "    </tr>\n",
       "    <tr>\n",
       "      <th>...</th>\n",
       "      <td>...</td>\n",
       "      <td>...</td>\n",
       "      <td>...</td>\n",
       "      <td>...</td>\n",
       "      <td>...</td>\n",
       "      <td>...</td>\n",
       "    </tr>\n",
       "    <tr>\n",
       "      <th>2021-05-05</th>\n",
       "      <td>1.828384e+06</td>\n",
       "      <td>14.185823</td>\n",
       "      <td>1.039156</td>\n",
       "      <td>57424.005948</td>\n",
       "      <td>-1915.978397</td>\n",
       "      <td>8.965035e+06</td>\n",
       "    </tr>\n",
       "    <tr>\n",
       "      <th>2021-05-06</th>\n",
       "      <td>1.808012e+06</td>\n",
       "      <td>14.409470</td>\n",
       "      <td>1.047412</td>\n",
       "      <td>56485.701297</td>\n",
       "      <td>-71.688909</td>\n",
       "      <td>8.048288e+06</td>\n",
       "    </tr>\n",
       "    <tr>\n",
       "      <th>2021-05-07</th>\n",
       "      <td>1.939428e+06</td>\n",
       "      <td>32.867983</td>\n",
       "      <td>1.105494</td>\n",
       "      <td>57369.557999</td>\n",
       "      <td>-9524.841477</td>\n",
       "      <td>2.461146e+07</td>\n",
       "    </tr>\n",
       "    <tr>\n",
       "      <th>2021-05-08</th>\n",
       "      <td>1.376119e+06</td>\n",
       "      <td>15.760862</td>\n",
       "      <td>1.043171</td>\n",
       "      <td>58766.584875</td>\n",
       "      <td>4652.695097</td>\n",
       "      <td>6.680947e+06</td>\n",
       "    </tr>\n",
       "    <tr>\n",
       "      <th>2021-05-09</th>\n",
       "      <td>1.085785e+06</td>\n",
       "      <td>22.308682</td>\n",
       "      <td>1.040930</td>\n",
       "      <td>58218.566077</td>\n",
       "      <td>7765.723584</td>\n",
       "      <td>9.067803e+06</td>\n",
       "    </tr>\n",
       "  </tbody>\n",
       "</table>\n",
       "<p>2321 rows × 6 columns</p>\n",
       "</div>"
      ],
      "text/plain": [
       "                     vol   dormancy     asopr         price         flow  \\\n",
       "date                                                                       \n",
       "2015-01-01  4.646205e+05   2.302504  0.987951    314.025456   124.391488   \n",
       "2015-01-02  7.280903e+05   2.879840  0.978582    315.687161   790.763344   \n",
       "2015-01-03  8.367299e+05   6.160422  0.923681    283.006535  4634.540821   \n",
       "2015-01-04  1.129690e+06   6.023914  0.915979    263.807883  -897.057854   \n",
       "2015-01-05  1.134569e+06   4.854263  0.901450    276.800000  7898.518534   \n",
       "...                  ...        ...       ...           ...          ...   \n",
       "2021-05-05  1.828384e+06  14.185823  1.039156  57424.005948 -1915.978397   \n",
       "2021-05-06  1.808012e+06  14.409470  1.047412  56485.701297   -71.688909   \n",
       "2021-05-07  1.939428e+06  32.867983  1.105494  57369.557999 -9524.841477   \n",
       "2021-05-08  1.376119e+06  15.760862  1.043171  58766.584875  4652.695097   \n",
       "2021-05-09  1.085785e+06  22.308682  1.040930  58218.566077  7765.723584   \n",
       "\n",
       "                     cdd  \n",
       "date                      \n",
       "2015-01-01  9.468414e+05  \n",
       "2015-01-02  1.942400e+06  \n",
       "2015-01-03  4.768928e+06  \n",
       "2015-01-04  5.944678e+06  \n",
       "2015-01-05  5.045935e+06  \n",
       "...                  ...  \n",
       "2021-05-05  8.965035e+06  \n",
       "2021-05-06  8.048288e+06  \n",
       "2021-05-07  2.461146e+07  \n",
       "2021-05-08  6.680947e+06  \n",
       "2021-05-09  9.067803e+06  \n",
       "\n",
       "[2321 rows x 6 columns]"
      ]
     },
     "execution_count": 13,
     "metadata": {},
     "output_type": "execute_result"
    }
   ],
   "source": [
    "data_new = dataset['2015-01-01':]\n",
    "data_new"
   ]
  },
  {
   "cell_type": "code",
   "execution_count": 14,
   "metadata": {},
   "outputs": [
    {
     "data": {
      "text/html": [
       "<div>\n",
       "<style scoped>\n",
       "    .dataframe tbody tr th:only-of-type {\n",
       "        vertical-align: middle;\n",
       "    }\n",
       "\n",
       "    .dataframe tbody tr th {\n",
       "        vertical-align: top;\n",
       "    }\n",
       "\n",
       "    .dataframe thead th {\n",
       "        text-align: right;\n",
       "    }\n",
       "</style>\n",
       "<table border=\"1\" class=\"dataframe\">\n",
       "  <thead>\n",
       "    <tr style=\"text-align: right;\">\n",
       "      <th></th>\n",
       "      <th>vol</th>\n",
       "      <th>dormancy</th>\n",
       "      <th>asopr</th>\n",
       "      <th>price</th>\n",
       "      <th>flow</th>\n",
       "      <th>cdd</th>\n",
       "    </tr>\n",
       "    <tr>\n",
       "      <th>date</th>\n",
       "      <th></th>\n",
       "      <th></th>\n",
       "      <th></th>\n",
       "      <th></th>\n",
       "      <th></th>\n",
       "      <th></th>\n",
       "    </tr>\n",
       "  </thead>\n",
       "  <tbody>\n",
       "    <tr>\n",
       "      <th>2011-08-17</th>\n",
       "      <td>3.230502e+05</td>\n",
       "      <td>2.860031</td>\n",
       "      <td>1.023796</td>\n",
       "      <td>10.993067</td>\n",
       "      <td>0.007500</td>\n",
       "      <td>9.222607e+05</td>\n",
       "    </tr>\n",
       "    <tr>\n",
       "      <th>2011-08-18</th>\n",
       "      <td>4.002768e+05</td>\n",
       "      <td>3.039587</td>\n",
       "      <td>1.018691</td>\n",
       "      <td>10.847018</td>\n",
       "      <td>8.049029</td>\n",
       "      <td>1.214820e+06</td>\n",
       "    </tr>\n",
       "    <tr>\n",
       "      <th>2011-08-19</th>\n",
       "      <td>5.561058e+05</td>\n",
       "      <td>1.548021</td>\n",
       "      <td>1.009232</td>\n",
       "      <td>11.650000</td>\n",
       "      <td>39.591418</td>\n",
       "      <td>8.595439e+05</td>\n",
       "    </tr>\n",
       "    <tr>\n",
       "      <th>2011-08-20</th>\n",
       "      <td>2.246163e+05</td>\n",
       "      <td>3.934542</td>\n",
       "      <td>1.026221</td>\n",
       "      <td>11.450998</td>\n",
       "      <td>-8.048029</td>\n",
       "      <td>8.800028e+05</td>\n",
       "    </tr>\n",
       "    <tr>\n",
       "      <th>2011-08-21</th>\n",
       "      <td>2.428926e+05</td>\n",
       "      <td>1.686685</td>\n",
       "      <td>0.993798</td>\n",
       "      <td>11.323212</td>\n",
       "      <td>1.819000</td>\n",
       "      <td>4.080212e+05</td>\n",
       "    </tr>\n",
       "    <tr>\n",
       "      <th>...</th>\n",
       "      <td>...</td>\n",
       "      <td>...</td>\n",
       "      <td>...</td>\n",
       "      <td>...</td>\n",
       "      <td>...</td>\n",
       "      <td>...</td>\n",
       "    </tr>\n",
       "    <tr>\n",
       "      <th>2021-05-05</th>\n",
       "      <td>1.828384e+06</td>\n",
       "      <td>14.185823</td>\n",
       "      <td>1.039156</td>\n",
       "      <td>57424.005948</td>\n",
       "      <td>-1915.978397</td>\n",
       "      <td>8.965035e+06</td>\n",
       "    </tr>\n",
       "    <tr>\n",
       "      <th>2021-05-06</th>\n",
       "      <td>1.808012e+06</td>\n",
       "      <td>14.409470</td>\n",
       "      <td>1.047412</td>\n",
       "      <td>56485.701297</td>\n",
       "      <td>-71.688909</td>\n",
       "      <td>8.048288e+06</td>\n",
       "    </tr>\n",
       "    <tr>\n",
       "      <th>2021-05-07</th>\n",
       "      <td>1.939428e+06</td>\n",
       "      <td>32.867983</td>\n",
       "      <td>1.105494</td>\n",
       "      <td>57369.557999</td>\n",
       "      <td>-9524.841477</td>\n",
       "      <td>2.461146e+07</td>\n",
       "    </tr>\n",
       "    <tr>\n",
       "      <th>2021-05-08</th>\n",
       "      <td>1.376119e+06</td>\n",
       "      <td>15.760862</td>\n",
       "      <td>1.043171</td>\n",
       "      <td>58766.584875</td>\n",
       "      <td>4652.695097</td>\n",
       "      <td>6.680947e+06</td>\n",
       "    </tr>\n",
       "    <tr>\n",
       "      <th>2021-05-09</th>\n",
       "      <td>1.085785e+06</td>\n",
       "      <td>22.308682</td>\n",
       "      <td>1.040930</td>\n",
       "      <td>58218.566077</td>\n",
       "      <td>7765.723584</td>\n",
       "      <td>9.067803e+06</td>\n",
       "    </tr>\n",
       "  </tbody>\n",
       "</table>\n",
       "<p>3554 rows × 6 columns</p>\n",
       "</div>"
      ],
      "text/plain": [
       "                     vol   dormancy     asopr         price         flow  \\\n",
       "date                                                                       \n",
       "2011-08-17  3.230502e+05   2.860031  1.023796     10.993067     0.007500   \n",
       "2011-08-18  4.002768e+05   3.039587  1.018691     10.847018     8.049029   \n",
       "2011-08-19  5.561058e+05   1.548021  1.009232     11.650000    39.591418   \n",
       "2011-08-20  2.246163e+05   3.934542  1.026221     11.450998    -8.048029   \n",
       "2011-08-21  2.428926e+05   1.686685  0.993798     11.323212     1.819000   \n",
       "...                  ...        ...       ...           ...          ...   \n",
       "2021-05-05  1.828384e+06  14.185823  1.039156  57424.005948 -1915.978397   \n",
       "2021-05-06  1.808012e+06  14.409470  1.047412  56485.701297   -71.688909   \n",
       "2021-05-07  1.939428e+06  32.867983  1.105494  57369.557999 -9524.841477   \n",
       "2021-05-08  1.376119e+06  15.760862  1.043171  58766.584875  4652.695097   \n",
       "2021-05-09  1.085785e+06  22.308682  1.040930  58218.566077  7765.723584   \n",
       "\n",
       "                     cdd  \n",
       "date                      \n",
       "2011-08-17  9.222607e+05  \n",
       "2011-08-18  1.214820e+06  \n",
       "2011-08-19  8.595439e+05  \n",
       "2011-08-20  8.800028e+05  \n",
       "2011-08-21  4.080212e+05  \n",
       "...                  ...  \n",
       "2021-05-05  8.965035e+06  \n",
       "2021-05-06  8.048288e+06  \n",
       "2021-05-07  2.461146e+07  \n",
       "2021-05-08  6.680947e+06  \n",
       "2021-05-09  9.067803e+06  \n",
       "\n",
       "[3554 rows x 6 columns]"
      ]
     },
     "execution_count": 14,
     "metadata": {},
     "output_type": "execute_result"
    }
   ],
   "source": [
    "dataset"
   ]
  },
  {
   "cell_type": "code",
   "execution_count": 15,
   "metadata": {},
   "outputs": [],
   "source": [
    "# dataset['diff'] = dataset['price'].pct_change()\n",
    "# dataset.drop(columns='price', inplace=True)\n",
    "# dataset.dropna(inplace=True)\n",
    "# dataset"
   ]
  },
  {
   "cell_type": "code",
   "execution_count": 16,
   "metadata": {},
   "outputs": [],
   "source": [
    "def window_data(df, window, target_column):\n",
    "    Xdf = df\n",
    "    ydf = df[target_column]\n",
    "    X, y = [], []\n",
    "    for i in range(len(Xdf)-window):\n",
    "        features = Xdf[i:i+window]\n",
    "        X.append(features)\n",
    "    for i in range(len(ydf)-window):\n",
    "        target = ydf[i+window]\n",
    "        y.append(target)\n",
    "    return np.array(X), np.array(y).reshape(-1,1)\n",
    "    \n",
    "    \n",
    "    "
   ]
  },
  {
   "cell_type": "code",
   "execution_count": 127,
   "metadata": {},
   "outputs": [],
   "source": [
    "X, y = window_data(data_new, 20, \"price\")"
   ]
  },
  {
   "cell_type": "code",
   "execution_count": 128,
   "metadata": {},
   "outputs": [],
   "source": [
    "split = int(0.8 * len(X))\n",
    "X_train = X[: split]\n",
    "X_test = X[split:]\n",
    "y_train = y[: split]\n",
    "y_test = y[split:]"
   ]
  },
  {
   "cell_type": "code",
   "execution_count": 129,
   "metadata": {},
   "outputs": [],
   "source": [
    "scalers = {}\n",
    "for i in range(X_train.shape[1]):\n",
    "    scalers[i] = MinMaxScaler()\n",
    "    X_train[:, i, :] = scalers[i].fit_transform(X_train[:, i, :]) \n",
    "for i in range(X_test.shape[1]):\n",
    "    X_test[:, i, :] = scalers[i].transform(X_test[:, i, :])"
   ]
  },
  {
   "cell_type": "code",
   "execution_count": 130,
   "metadata": {},
   "outputs": [
    {
     "data": {
      "text/plain": [
       "(460, 20, 6)"
      ]
     },
     "execution_count": 130,
     "metadata": {},
     "output_type": "execute_result"
    }
   ],
   "source": [
    "X_test.shape"
   ]
  },
  {
   "cell_type": "code",
   "execution_count": 131,
   "metadata": {},
   "outputs": [],
   "source": [
    "sc = MinMaxScaler()\n",
    "sc.fit(y)\n",
    "y_train = sc.transform(y_train)\n",
    "y_test = sc.transform(y_test)"
   ]
  },
  {
   "cell_type": "code",
   "execution_count": 141,
   "metadata": {},
   "outputs": [
    {
     "name": "stdout",
     "output_type": "stream",
     "text": [
      "Epoch 1/10\n",
      "1840/1840 [==============================] - 12s 5ms/step - loss: 0.0017\n",
      "Epoch 2/10\n",
      "1840/1840 [==============================] - 10s 5ms/step - loss: 4.0933e-04\n",
      "Epoch 3/10\n",
      "1840/1840 [==============================] - 10s 5ms/step - loss: 3.0380e-04\n",
      "Epoch 4/10\n",
      "1840/1840 [==============================] - 10s 5ms/step - loss: 1.8309e-04\n",
      "Epoch 5/10\n",
      "1840/1840 [==============================] - 10s 5ms/step - loss: 1.8264e-04\n",
      "Epoch 6/10\n",
      "1840/1840 [==============================] - 8s 4ms/step - loss: 3.1381e-04\n",
      "Epoch 7/10\n",
      "1840/1840 [==============================] - 8s 4ms/step - loss: 2.3472e-04\n",
      "Epoch 8/10\n",
      "1840/1840 [==============================] - 8s 4ms/step - loss: 2.0668e-04\n",
      "Epoch 9/10\n",
      "1840/1840 [==============================] - 8s 4ms/step - loss: 1.5379e-04\n",
      "Epoch 10/10\n",
      "1840/1840 [==============================] - 8s 4ms/step - loss: 2.4653e-04\n"
     ]
    }
   ],
   "source": [
    "#LSTM model\n",
    "model = Sequential()\n",
    "epochs = 10\n",
    "model.add(GRU(100, return_sequences=True, input_shape=(X_train.shape[1],6)))\n",
    "model.add(Dropout(0.2))\n",
    "model.add(GRU(64))\n",
    "model.add(Dropout(0.1))\n",
    "model.add(Dense(32))\n",
    "model.add(Dropout(0.2))\n",
    "model.add(Dense(1))\n",
    "model.compile(loss=\"mse\", optimizer=\"adam\")\n",
    "fit = model.fit(X_train, y_train, batch_size=1, epochs = epochs)"
   ]
  },
  {
   "cell_type": "code",
   "execution_count": 17,
   "metadata": {},
   "outputs": [
    {
     "ename": "NameError",
     "evalue": "name 'model' is not defined",
     "output_type": "error",
     "traceback": [
      "\u001b[0;31m---------------------------------------------------------------------------\u001b[0m",
      "\u001b[0;31mNameError\u001b[0m                                 Traceback (most recent call last)",
      "\u001b[0;32m<ipython-input-17-5f15418b3570>\u001b[0m in \u001b[0;36m<module>\u001b[0;34m\u001b[0m\n\u001b[0;32m----> 1\u001b[0;31m \u001b[0mmodel\u001b[0m\u001b[0;34m.\u001b[0m\u001b[0msummary\u001b[0m\u001b[0;34m(\u001b[0m\u001b[0;34m)\u001b[0m\u001b[0;34m\u001b[0m\u001b[0;34m\u001b[0m\u001b[0m\n\u001b[0m",
      "\u001b[0;31mNameError\u001b[0m: name 'model' is not defined"
     ]
    }
   ],
   "source": [
    "model.summary()"
   ]
  },
  {
   "cell_type": "code",
   "execution_count": 143,
   "metadata": {},
   "outputs": [
    {
     "data": {
      "text/plain": [
       "<AxesSubplot:>"
      ]
     },
     "execution_count": 143,
     "metadata": {},
     "output_type": "execute_result"
    },
    {
     "data": {
      "image/png": "[encoded data removed]",
      "text/plain": [
       "<Figure size 432x288 with 1 Axes>"
      ]
     },
     "metadata": {
      "needs_background": "light"
     },
     "output_type": "display_data"
    }
   ],
   "source": [
    "# Create a dataframe with the history dictionary\n",
    "df_plot = pd.DataFrame(fit.history, index=range(1, len(fit.history[\"loss\"]) + 1))\n",
    "\n",
    "# Plot the loss\n",
    "df_plot.plot(y=\"loss\")"
   ]
  },
  {
   "cell_type": "code",
   "execution_count": 144,
   "metadata": {},
   "outputs": [
    {
     "name": "stdout",
     "output_type": "stream",
     "text": [
      "15/15 [==============================] - 0s 3ms/step - loss: 0.0398\n"
     ]
    },
    {
     "data": {
      "text/plain": [
       "0.03979344293475151"
      ]
     },
     "execution_count": 144,
     "metadata": {},
     "output_type": "execute_result"
    }
   ],
   "source": [
    "model.evaluate(X_test, y_test)"
   ]
  },
  {
   "cell_type": "code",
   "execution_count": 145,
   "metadata": {},
   "outputs": [
    {
     "data": {
      "text/plain": [
       "(460, 1)"
      ]
     },
     "execution_count": 145,
     "metadata": {},
     "output_type": "execute_result"
    }
   ],
   "source": [
    "predicted = model.predict(X_test)\n",
    "predicted.shape"
   ]
  },
  {
   "cell_type": "code",
   "execution_count": 146,
   "metadata": {},
   "outputs": [
    {
     "data": {
      "text/plain": [
       "0.03979344147309956"
      ]
     },
     "execution_count": 146,
     "metadata": {},
     "output_type": "execute_result"
    }
   ],
   "source": [
    "mse = mean_squared_error(y_test, predicted)\n",
    "mse"
   ]
  },
  {
   "cell_type": "code",
   "execution_count": 147,
   "metadata": {},
   "outputs": [
    {
     "data": {
      "text/plain": [
       "0.19948293529297076"
      ]
     },
     "execution_count": 147,
     "metadata": {},
     "output_type": "execute_result"
    }
   ],
   "source": [
    "np.sqrt(mse)"
   ]
  },
  {
   "cell_type": "code",
   "execution_count": 148,
   "metadata": {},
   "outputs": [],
   "source": [
    "predicted_prices = sc.inverse_transform(predicted)\n",
    "real_prices = sc.inverse_transform(y_test.reshape(-1, 1))"
   ]
  },
  {
   "cell_type": "code",
   "execution_count": 149,
   "metadata": {},
   "outputs": [
    {
     "data": {
      "text/plain": [
       "<AxesSubplot:xlabel='date'>"
      ]
     },
     "execution_count": 149,
     "metadata": {},
     "output_type": "execute_result"
    },
    {
     "data": {
      "image/png": "[encoded data removed]",
      "text/plain": [
       "<Figure size 432x288 with 1 Axes>"
      ]
     },
     "metadata": {
      "needs_background": "light"
     },
     "output_type": "display_data"
    }
   ],
   "source": [
    "stocks = pd.DataFrame({\n",
    "    \"Real\": real_prices.ravel(),\n",
    "    \"Predicted\": predicted_prices.ravel()\n",
    "    }, index = data_new.index[-len(real_prices): ])\n",
    "stocks.plot()"
   ]
  },
  {
   "cell_type": "code",
   "execution_count": null,
   "metadata": {},
   "outputs": [],
   "source": []
  }
 ],
 "metadata": {
  "kernelspec": {
   "display_name": "Python [conda env:dev] *",
   "language": "python",
   "name": "conda-env-dev-py"
  },
  "language_info": {
   "codemirror_mode": {
    "name": "ipython",
    "version": 3
   },
   "file_extension": ".py",
   "mimetype": "text/x-python",
   "name": "python",
   "nbconvert_exporter": "python",
   "pygments_lexer": "ipython3",
   "version": "3.7.7"
  }
 },
 "nbformat": 4,
 "nbformat_minor": 4
}
