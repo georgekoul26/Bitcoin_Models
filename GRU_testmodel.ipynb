{
 "cells": [
  {
   "cell_type": "code",
   "execution_count": null,
   "metadata": {},
   "outputs": [],
   "source": [
    "##Test"
   ]
  },
  {
   "cell_type": "code",
   "execution_count": 1,
   "metadata": {},
   "outputs": [],
   "source": [
    "#Import Libraries\n",
    "import requests\n",
    "import json\n",
    "import pandas as pd\n",
    "from sklearn.preprocessing import MinMaxScaler\n",
    "from tensorflow.keras.models import Sequential\n",
    "from tensorflow.keras.layers import GRU, Dense, Dropout\n",
    "from sklearn.metrics import mean_squared_error\n",
    "import numpy as np\n",
    "import matplotlib.pyplot as plt"
   ]
  },
  {
   "cell_type": "code",
   "execution_count": 2,
   "metadata": {},
   "outputs": [],
   "source": [
    "from numpy.random import seed\n",
    "\n",
    "seed(1)\n",
    "from tensorflow import random\n",
    "\n",
    "random.set_seed(2)"
   ]
  },
  {
   "cell_type": "code",
   "execution_count": 3,
   "metadata": {},
   "outputs": [],
   "source": [
    "from dotenv import load_dotenv\n",
    "import os\n",
    "load_dotenv()\n",
    "API_KEY = os.getenv('GLASSNODE_API_KEY')"
   ]
  },
  {
   "cell_type": "code",
   "execution_count": 4,
   "metadata": {},
   "outputs": [],
   "source": [
    "#Pull factors and BTC price from Glassnode Api\n",
    "vol = requests.get('https://api.glassnode.com/v1/metrics/transactions/transfers_volume_sum',\n",
    "    params={'a': 'BTC', 'api_key': API_KEY})\n",
    "\n",
    "# convert to pandas dataframe\n",
    "vol_df = pd.read_json(vol.text, convert_dates=['t'])\n",
    "\n",
    "dorm = requests.get('https://api.glassnode.com/v1/metrics/indicators/average_dormancy',\n",
    "    params={'a': 'BTC', 'api_key': API_KEY})\n",
    "\n",
    "# convert to pandas dataframe\n",
    "dormancy_df = pd.read_json(dorm.text, convert_dates=['t'])\n",
    "\n",
    "# make API request\n",
    "asopr = requests.get('https://api.glassnode.com/v1/metrics/indicators/sopr_adjusted',\n",
    "    params={'a': 'BTC', 'api_key': API_KEY})\n",
    "\n",
    "# convert to pandas dataframe\n",
    "asopr_df = pd.read_json(asopr.text, convert_dates=['t'])\n",
    "asopr_df.head()\n",
    "\n",
    "# make API request\n",
    "price_res = requests.get('https://api.glassnode.com/v1/metrics/market/price_usd_close',\n",
    "    params={'a': 'BTC', 'api_key': API_KEY})\n",
    "\n",
    "# convert to pandas dataframe\n",
    "price_df = pd.read_json(price_res.text, convert_dates=['t'])\n",
    "\n",
    "# make API request\n",
    "exch_flow = requests.get('https://api.glassnode.com/v1/metrics/transactions/transfers_volume_exchanges_net',\n",
    "    params={'a': 'BTC', 'api_key': API_KEY})\n",
    "\n",
    "# convert to pandas dataframe\n",
    "exch_df = pd.read_json(exch_flow.text, convert_dates=['t'])\n",
    "\n",
    "# make API request\n",
    "cdd = requests.get('https://api.glassnode.com/v1/metrics/indicators/cdd',\n",
    "    params={'a': 'BTC', 'api_key': API_KEY})\n",
    "\n",
    "# convert to pandas dataframe\n",
    "cdd_df = pd.read_json(cdd.text, convert_dates=['t'])\n",
    "\n",
    "# make API request\n",
    "profit_relative = requests.get('https://api.glassnode.com/v1/metrics/supply/profit_relative',\n",
    "    params={'a': 'BTC', 'api_key': API_KEY})\n",
    "\n",
    "# convert to pandas dataframe\n",
    "profit_relative_df = pd.read_json(profit_relative.text, convert_dates=['t'])\n",
    "\n",
    "\n",
    "#convert to OHLCpandas dataframe\n",
    "ohlc = requests.get('https://api.glassnode.com/v1/metrics/market/price_usd_ohlc',\n",
    "                    params={'a': 'BTC', 'api_key': API_KEY})\n",
    "j = ohlc.json()\n",
    "ohlc_array=[]\n",
    "for t in j:\n",
    "    newdict={}\n",
    "    newdict['t']=t['t']\n",
    "    newdict['o']=t['o']['o']\n",
    "    newdict['h']=t['o']['h']\n",
    "    newdict['l']=t['o']['l']\n",
    "    newdict['c']=t['o']['c']\n",
    "    ohlc_array.append(newdict)\n",
    "ohlc_df = pd.DataFrame(ohlc_array)\n",
    "result = ohlc_df.to_json(orient=\"records\")\n",
    "ohlc_df = pd.read_json(result, convert_dates=['t'])\n",
    "\n"
   ]
  },
  {
   "cell_type": "code",
   "execution_count": 5,
   "metadata": {},
   "outputs": [],
   "source": [
    "ohlc_df.rename(columns = {'t':'date', 'o':'open', 'h':'high', 'l':'low', 'c':'close'}, inplace=True)\n",
    "ohlc_df.set_index('date', inplace=True)"
   ]
  },
  {
   "cell_type": "code",
   "execution_count": 6,
   "metadata": {},
   "outputs": [],
   "source": [
    "vol_df.rename(columns = {'t':'date', 'v':'vol'}, inplace=True)\n",
    "vol_df.set_index('date', inplace=True)\n"
   ]
  },
  {
   "cell_type": "code",
   "execution_count": 7,
   "metadata": {},
   "outputs": [],
   "source": [
    "dormancy_df.rename(columns = {'t':'date', 'v':'dormancy'}, inplace=True)\n",
    "dormancy_df.set_index('date', inplace=True)\n"
   ]
  },
  {
   "cell_type": "code",
   "execution_count": 8,
   "metadata": {},
   "outputs": [],
   "source": [
    "asopr_df.rename(columns = {'t':'date', 'v':'asopr'}, inplace=True)\n",
    "asopr_df.set_index('date', inplace=True)"
   ]
  },
  {
   "cell_type": "code",
   "execution_count": 9,
   "metadata": {},
   "outputs": [],
   "source": [
    "price_df.rename(columns = {'t':'date', 'v':'price'}, inplace=True)\n",
    "price_df.set_index('date', inplace=True)"
   ]
  },
  {
   "cell_type": "code",
   "execution_count": 10,
   "metadata": {},
   "outputs": [],
   "source": [
    "exch_df.rename(columns = {'t':'date', 'v':'flow'}, inplace=True)\n",
    "exch_df.set_index('date', inplace=True)"
   ]
  },
  {
   "cell_type": "code",
   "execution_count": 11,
   "metadata": {},
   "outputs": [],
   "source": [
    "cdd_df.rename(columns = {'t':'date', 'v':'cdd'}, inplace=True)\n",
    "cdd_df.set_index('date', inplace=True)"
   ]
  },
  {
   "cell_type": "code",
   "execution_count": 12,
   "metadata": {},
   "outputs": [],
   "source": [
    "profit_relative_df.rename(columns = {'t':'date', 'v':'profit_relative_df'}, inplace=True)\n",
    "profit_relative_df.set_index('date', inplace=True)"
   ]
  },
  {
   "cell_type": "code",
   "execution_count": 13,
   "metadata": {},
   "outputs": [],
   "source": [
    "dataset = pd.concat([vol_df, dormancy_df, asopr_df, ohlc_df, exch_df, cdd_df,profit_relative_df], axis=1, join='inner')"
   ]
  },
  {
   "cell_type": "code",
   "execution_count": 14,
   "metadata": {},
   "outputs": [],
   "source": [
    "dataset.dropna(inplace=True)"
   ]
  },
  {
   "cell_type": "code",
   "execution_count": 15,
   "metadata": {},
   "outputs": [
    {
     "data": {
      "text/plain": [
       "(3559, 10)"
      ]
     },
     "execution_count": 15,
     "metadata": {},
     "output_type": "execute_result"
    }
   ],
   "source": [
    "dataset.shape"
   ]
  },
  {
   "cell_type": "code",
   "execution_count": 15,
   "metadata": {},
   "outputs": [
    {
     "data": {
      "text/html": [
       "<div>\n",
       "<style scoped>\n",
       "    .dataframe tbody tr th:only-of-type {\n",
       "        vertical-align: middle;\n",
       "    }\n",
       "\n",
       "    .dataframe tbody tr th {\n",
       "        vertical-align: top;\n",
       "    }\n",
       "\n",
       "    .dataframe thead th {\n",
       "        text-align: right;\n",
       "    }\n",
       "</style>\n",
       "<table border=\"1\" class=\"dataframe\">\n",
       "  <thead>\n",
       "    <tr style=\"text-align: right;\">\n",
       "      <th></th>\n",
       "      <th>vol</th>\n",
       "      <th>dormancy</th>\n",
       "      <th>asopr</th>\n",
       "      <th>open</th>\n",
       "      <th>high</th>\n",
       "      <th>low</th>\n",
       "      <th>close</th>\n",
       "      <th>flow</th>\n",
       "      <th>cdd</th>\n",
       "      <th>profit_relative_df</th>\n",
       "    </tr>\n",
       "    <tr>\n",
       "      <th>date</th>\n",
       "      <th></th>\n",
       "      <th></th>\n",
       "      <th></th>\n",
       "      <th></th>\n",
       "      <th></th>\n",
       "      <th></th>\n",
       "      <th></th>\n",
       "      <th></th>\n",
       "      <th></th>\n",
       "      <th></th>\n",
       "    </tr>\n",
       "  </thead>\n",
       "  <tbody>\n",
       "    <tr>\n",
       "      <th>2015-01-01</th>\n",
       "      <td>4.646205e+05</td>\n",
       "      <td>2.302504</td>\n",
       "      <td>0.987951</td>\n",
       "      <td>320.987415</td>\n",
       "      <td>320.987415</td>\n",
       "      <td>313.739880</td>\n",
       "      <td>314.025456</td>\n",
       "      <td>124.391488</td>\n",
       "      <td>9.468414e+05</td>\n",
       "      <td>0.454863</td>\n",
       "    </tr>\n",
       "    <tr>\n",
       "      <th>2015-01-02</th>\n",
       "      <td>7.280903e+05</td>\n",
       "      <td>2.879840</td>\n",
       "      <td>0.978582</td>\n",
       "      <td>313.973633</td>\n",
       "      <td>316.759759</td>\n",
       "      <td>312.847921</td>\n",
       "      <td>315.687161</td>\n",
       "      <td>790.763344</td>\n",
       "      <td>1.942400e+06</td>\n",
       "      <td>0.463323</td>\n",
       "    </tr>\n",
       "    <tr>\n",
       "      <th>2015-01-03</th>\n",
       "      <td>8.367299e+05</td>\n",
       "      <td>6.160422</td>\n",
       "      <td>0.923681</td>\n",
       "      <td>315.313701</td>\n",
       "      <td>316.529810</td>\n",
       "      <td>283.006535</td>\n",
       "      <td>283.006535</td>\n",
       "      <td>4634.540821</td>\n",
       "      <td>4.768928e+06</td>\n",
       "      <td>0.421309</td>\n",
       "    </tr>\n",
       "    <tr>\n",
       "      <th>2015-01-04</th>\n",
       "      <td>1.129690e+06</td>\n",
       "      <td>6.023914</td>\n",
       "      <td>0.915979</td>\n",
       "      <td>280.469412</td>\n",
       "      <td>288.253558</td>\n",
       "      <td>256.121596</td>\n",
       "      <td>263.807883</td>\n",
       "      <td>-897.057854</td>\n",
       "      <td>5.944678e+06</td>\n",
       "      <td>0.423702</td>\n",
       "    </tr>\n",
       "    <tr>\n",
       "      <th>2015-01-05</th>\n",
       "      <td>1.134569e+06</td>\n",
       "      <td>4.854263</td>\n",
       "      <td>0.901450</td>\n",
       "      <td>264.973697</td>\n",
       "      <td>279.195639</td>\n",
       "      <td>264.973697</td>\n",
       "      <td>276.800000</td>\n",
       "      <td>7898.518534</td>\n",
       "      <td>5.045935e+06</td>\n",
       "      <td>0.428064</td>\n",
       "    </tr>\n",
       "    <tr>\n",
       "      <th>...</th>\n",
       "      <td>...</td>\n",
       "      <td>...</td>\n",
       "      <td>...</td>\n",
       "      <td>...</td>\n",
       "      <td>...</td>\n",
       "      <td>...</td>\n",
       "      <td>...</td>\n",
       "      <td>...</td>\n",
       "      <td>...</td>\n",
       "      <td>...</td>\n",
       "    </tr>\n",
       "    <tr>\n",
       "      <th>2020-09-27</th>\n",
       "      <td>2.071286e+06</td>\n",
       "      <td>17.708307</td>\n",
       "      <td>1.005520</td>\n",
       "      <td>10743.831374</td>\n",
       "      <td>10803.277667</td>\n",
       "      <td>10647.165037</td>\n",
       "      <td>10774.426756</td>\n",
       "      <td>-1541.539621</td>\n",
       "      <td>5.974249e+06</td>\n",
       "      <td>0.850047</td>\n",
       "    </tr>\n",
       "    <tr>\n",
       "      <th>2020-09-28</th>\n",
       "      <td>2.292826e+06</td>\n",
       "      <td>8.726355</td>\n",
       "      <td>1.012117</td>\n",
       "      <td>10832.145213</td>\n",
       "      <td>10949.123149</td>\n",
       "      <td>10718.589184</td>\n",
       "      <td>10721.327041</td>\n",
       "      <td>-3380.920498</td>\n",
       "      <td>4.622663e+06</td>\n",
       "      <td>0.832459</td>\n",
       "    </tr>\n",
       "    <tr>\n",
       "      <th>2020-09-29</th>\n",
       "      <td>2.585598e+06</td>\n",
       "      <td>30.591008</td>\n",
       "      <td>1.027205</td>\n",
       "      <td>10710.473499</td>\n",
       "      <td>10856.108615</td>\n",
       "      <td>10666.480343</td>\n",
       "      <td>10848.830487</td>\n",
       "      <td>606.147281</td>\n",
       "      <td>1.903513e+07</td>\n",
       "      <td>0.851464</td>\n",
       "    </tr>\n",
       "    <tr>\n",
       "      <th>2020-09-30</th>\n",
       "      <td>2.387183e+06</td>\n",
       "      <td>19.388860</td>\n",
       "      <td>1.004648</td>\n",
       "      <td>10852.737672</td>\n",
       "      <td>10852.737672</td>\n",
       "      <td>10690.556905</td>\n",
       "      <td>10787.617867</td>\n",
       "      <td>-2746.883003</td>\n",
       "      <td>1.205093e+07</td>\n",
       "      <td>0.848218</td>\n",
       "    </tr>\n",
       "    <tr>\n",
       "      <th>2020-10-01</th>\n",
       "      <td>1.976789e+06</td>\n",
       "      <td>8.729423</td>\n",
       "      <td>1.001961</td>\n",
       "      <td>10796.997788</td>\n",
       "      <td>10915.844015</td>\n",
       "      <td>10500.563989</td>\n",
       "      <td>10623.330125</td>\n",
       "      <td>-1421.307494</td>\n",
       "      <td>5.174814e+06</td>\n",
       "      <td>0.805167</td>\n",
       "    </tr>\n",
       "  </tbody>\n",
       "</table>\n",
       "<p>2101 rows × 10 columns</p>\n",
       "</div>"
      ],
      "text/plain": [
       "                     vol   dormancy     asopr          open          high  \\\n",
       "date                                                                        \n",
       "2015-01-01  4.646205e+05   2.302504  0.987951    320.987415    320.987415   \n",
       "2015-01-02  7.280903e+05   2.879840  0.978582    313.973633    316.759759   \n",
       "2015-01-03  8.367299e+05   6.160422  0.923681    315.313701    316.529810   \n",
       "2015-01-04  1.129690e+06   6.023914  0.915979    280.469412    288.253558   \n",
       "2015-01-05  1.134569e+06   4.854263  0.901450    264.973697    279.195639   \n",
       "...                  ...        ...       ...           ...           ...   \n",
       "2020-09-27  2.071286e+06  17.708307  1.005520  10743.831374  10803.277667   \n",
       "2020-09-28  2.292826e+06   8.726355  1.012117  10832.145213  10949.123149   \n",
       "2020-09-29  2.585598e+06  30.591008  1.027205  10710.473499  10856.108615   \n",
       "2020-09-30  2.387183e+06  19.388860  1.004648  10852.737672  10852.737672   \n",
       "2020-10-01  1.976789e+06   8.729423  1.001961  10796.997788  10915.844015   \n",
       "\n",
       "                     low         close         flow           cdd  \\\n",
       "date                                                                \n",
       "2015-01-01    313.739880    314.025456   124.391488  9.468414e+05   \n",
       "2015-01-02    312.847921    315.687161   790.763344  1.942400e+06   \n",
       "2015-01-03    283.006535    283.006535  4634.540821  4.768928e+06   \n",
       "2015-01-04    256.121596    263.807883  -897.057854  5.944678e+06   \n",
       "2015-01-05    264.973697    276.800000  7898.518534  5.045935e+06   \n",
       "...                  ...           ...          ...           ...   \n",
       "2020-09-27  10647.165037  10774.426756 -1541.539621  5.974249e+06   \n",
       "2020-09-28  10718.589184  10721.327041 -3380.920498  4.622663e+06   \n",
       "2020-09-29  10666.480343  10848.830487   606.147281  1.903513e+07   \n",
       "2020-09-30  10690.556905  10787.617867 -2746.883003  1.205093e+07   \n",
       "2020-10-01  10500.563989  10623.330125 -1421.307494  5.174814e+06   \n",
       "\n",
       "            profit_relative_df  \n",
       "date                            \n",
       "2015-01-01            0.454863  \n",
       "2015-01-02            0.463323  \n",
       "2015-01-03            0.421309  \n",
       "2015-01-04            0.423702  \n",
       "2015-01-05            0.428064  \n",
       "...                        ...  \n",
       "2020-09-27            0.850047  \n",
       "2020-09-28            0.832459  \n",
       "2020-09-29            0.851464  \n",
       "2020-09-30            0.848218  \n",
       "2020-10-01            0.805167  \n",
       "\n",
       "[2101 rows x 10 columns]"
      ]
     },
     "execution_count": 15,
     "metadata": {},
     "output_type": "execute_result"
    }
   ],
   "source": [
    "data_new = dataset['2015-01-01':'2020-10-01']\n",
    "data_new"
   ]
  },
  {
   "cell_type": "code",
   "execution_count": 16,
   "metadata": {},
   "outputs": [
    {
     "data": {
      "text/html": [
       "<div>\n",
       "<style scoped>\n",
       "    .dataframe tbody tr th:only-of-type {\n",
       "        vertical-align: middle;\n",
       "    }\n",
       "\n",
       "    .dataframe tbody tr th {\n",
       "        vertical-align: top;\n",
       "    }\n",
       "\n",
       "    .dataframe thead th {\n",
       "        text-align: right;\n",
       "    }\n",
       "</style>\n",
       "<table border=\"1\" class=\"dataframe\">\n",
       "  <thead>\n",
       "    <tr style=\"text-align: right;\">\n",
       "      <th></th>\n",
       "      <th>vol</th>\n",
       "      <th>dormancy</th>\n",
       "      <th>asopr</th>\n",
       "      <th>open</th>\n",
       "      <th>high</th>\n",
       "      <th>low</th>\n",
       "      <th>close</th>\n",
       "      <th>flow</th>\n",
       "      <th>cdd</th>\n",
       "      <th>profit_relative_df</th>\n",
       "    </tr>\n",
       "    <tr>\n",
       "      <th>date</th>\n",
       "      <th></th>\n",
       "      <th></th>\n",
       "      <th></th>\n",
       "      <th></th>\n",
       "      <th></th>\n",
       "      <th></th>\n",
       "      <th></th>\n",
       "      <th></th>\n",
       "      <th></th>\n",
       "      <th></th>\n",
       "    </tr>\n",
       "  </thead>\n",
       "  <tbody>\n",
       "    <tr>\n",
       "      <th>2011-08-17</th>\n",
       "      <td>3.230502e+05</td>\n",
       "      <td>2.860031</td>\n",
       "      <td>1.023796</td>\n",
       "      <td>10.943860</td>\n",
       "      <td>11.095782</td>\n",
       "      <td>10.686489</td>\n",
       "      <td>10.993067</td>\n",
       "      <td>0.007500</td>\n",
       "      <td>9.222607e+05</td>\n",
       "      <td>0.654183</td>\n",
       "    </tr>\n",
       "    <tr>\n",
       "      <th>2011-08-18</th>\n",
       "      <td>4.002768e+05</td>\n",
       "      <td>3.039587</td>\n",
       "      <td>1.018691</td>\n",
       "      <td>10.946207</td>\n",
       "      <td>11.030015</td>\n",
       "      <td>10.350000</td>\n",
       "      <td>10.847018</td>\n",
       "      <td>8.049029</td>\n",
       "      <td>1.214820e+06</td>\n",
       "      <td>0.633324</td>\n",
       "    </tr>\n",
       "    <tr>\n",
       "      <th>2011-08-19</th>\n",
       "      <td>5.561058e+05</td>\n",
       "      <td>1.548021</td>\n",
       "      <td>1.009232</td>\n",
       "      <td>10.869213</td>\n",
       "      <td>11.740022</td>\n",
       "      <td>10.802218</td>\n",
       "      <td>11.650000</td>\n",
       "      <td>39.591418</td>\n",
       "      <td>8.595439e+05</td>\n",
       "      <td>0.673411</td>\n",
       "    </tr>\n",
       "    <tr>\n",
       "      <th>2011-08-20</th>\n",
       "      <td>2.246163e+05</td>\n",
       "      <td>3.934542</td>\n",
       "      <td>1.026221</td>\n",
       "      <td>11.651622</td>\n",
       "      <td>11.656323</td>\n",
       "      <td>10.720000</td>\n",
       "      <td>11.450998</td>\n",
       "      <td>-8.048029</td>\n",
       "      <td>8.800028e+05</td>\n",
       "      <td>0.663196</td>\n",
       "    </tr>\n",
       "    <tr>\n",
       "      <th>2011-08-21</th>\n",
       "      <td>2.428926e+05</td>\n",
       "      <td>1.686685</td>\n",
       "      <td>0.993798</td>\n",
       "      <td>11.452000</td>\n",
       "      <td>11.499200</td>\n",
       "      <td>11.112000</td>\n",
       "      <td>11.323212</td>\n",
       "      <td>1.819000</td>\n",
       "      <td>4.080212e+05</td>\n",
       "      <td>0.658170</td>\n",
       "    </tr>\n",
       "    <tr>\n",
       "      <th>...</th>\n",
       "      <td>...</td>\n",
       "      <td>...</td>\n",
       "      <td>...</td>\n",
       "      <td>...</td>\n",
       "      <td>...</td>\n",
       "      <td>...</td>\n",
       "      <td>...</td>\n",
       "      <td>...</td>\n",
       "      <td>...</td>\n",
       "      <td>...</td>\n",
       "    </tr>\n",
       "    <tr>\n",
       "      <th>2021-05-09</th>\n",
       "      <td>1.085785e+06</td>\n",
       "      <td>22.308682</td>\n",
       "      <td>1.040930</td>\n",
       "      <td>58949.175691</td>\n",
       "      <td>59210.881789</td>\n",
       "      <td>56594.240801</td>\n",
       "      <td>58218.566077</td>\n",
       "      <td>7812.810506</td>\n",
       "      <td>9.067803e+06</td>\n",
       "      <td>0.948036</td>\n",
       "    </tr>\n",
       "    <tr>\n",
       "      <th>2021-05-10</th>\n",
       "      <td>1.412837e+06</td>\n",
       "      <td>16.661084</td>\n",
       "      <td>1.030398</td>\n",
       "      <td>58313.694230</td>\n",
       "      <td>59463.950585</td>\n",
       "      <td>54558.287582</td>\n",
       "      <td>55824.861667</td>\n",
       "      <td>4060.184188</td>\n",
       "      <td>1.016189e+07</td>\n",
       "      <td>0.876695</td>\n",
       "    </tr>\n",
       "    <tr>\n",
       "      <th>2021-05-11</th>\n",
       "      <td>1.204164e+06</td>\n",
       "      <td>14.106913</td>\n",
       "      <td>1.010814</td>\n",
       "      <td>55828.260785</td>\n",
       "      <td>56870.394152</td>\n",
       "      <td>54696.374470</td>\n",
       "      <td>56714.088910</td>\n",
       "      <td>-6094.859136</td>\n",
       "      <td>7.254929e+06</td>\n",
       "      <td>0.908097</td>\n",
       "    </tr>\n",
       "    <tr>\n",
       "      <th>2021-05-12</th>\n",
       "      <td>1.556960e+06</td>\n",
       "      <td>27.006119</td>\n",
       "      <td>1.056274</td>\n",
       "      <td>56701.747954</td>\n",
       "      <td>57907.816792</td>\n",
       "      <td>49916.494499</td>\n",
       "      <td>49916.494499</td>\n",
       "      <td>27500.293596</td>\n",
       "      <td>1.947897e+07</td>\n",
       "      <td>0.797742</td>\n",
       "    </tr>\n",
       "    <tr>\n",
       "      <th>2021-05-13</th>\n",
       "      <td>2.501444e+06</td>\n",
       "      <td>14.784628</td>\n",
       "      <td>0.991828</td>\n",
       "      <td>47376.082299</td>\n",
       "      <td>51264.958830</td>\n",
       "      <td>47337.445591</td>\n",
       "      <td>49729.302500</td>\n",
       "      <td>14154.322089</td>\n",
       "      <td>2.003597e+07</td>\n",
       "      <td>0.803512</td>\n",
       "    </tr>\n",
       "  </tbody>\n",
       "</table>\n",
       "<p>3558 rows × 10 columns</p>\n",
       "</div>"
      ],
      "text/plain": [
       "                     vol   dormancy     asopr          open          high  \\\n",
       "date                                                                        \n",
       "2011-08-17  3.230502e+05   2.860031  1.023796     10.943860     11.095782   \n",
       "2011-08-18  4.002768e+05   3.039587  1.018691     10.946207     11.030015   \n",
       "2011-08-19  5.561058e+05   1.548021  1.009232     10.869213     11.740022   \n",
       "2011-08-20  2.246163e+05   3.934542  1.026221     11.651622     11.656323   \n",
       "2011-08-21  2.428926e+05   1.686685  0.993798     11.452000     11.499200   \n",
       "...                  ...        ...       ...           ...           ...   \n",
       "2021-05-09  1.085785e+06  22.308682  1.040930  58949.175691  59210.881789   \n",
       "2021-05-10  1.412837e+06  16.661084  1.030398  58313.694230  59463.950585   \n",
       "2021-05-11  1.204164e+06  14.106913  1.010814  55828.260785  56870.394152   \n",
       "2021-05-12  1.556960e+06  27.006119  1.056274  56701.747954  57907.816792   \n",
       "2021-05-13  2.501444e+06  14.784628  0.991828  47376.082299  51264.958830   \n",
       "\n",
       "                     low         close          flow           cdd  \\\n",
       "date                                                                 \n",
       "2011-08-17     10.686489     10.993067      0.007500  9.222607e+05   \n",
       "2011-08-18     10.350000     10.847018      8.049029  1.214820e+06   \n",
       "2011-08-19     10.802218     11.650000     39.591418  8.595439e+05   \n",
       "2011-08-20     10.720000     11.450998     -8.048029  8.800028e+05   \n",
       "2011-08-21     11.112000     11.323212      1.819000  4.080212e+05   \n",
       "...                  ...           ...           ...           ...   \n",
       "2021-05-09  56594.240801  58218.566077   7812.810506  9.067803e+06   \n",
       "2021-05-10  54558.287582  55824.861667   4060.184188  1.016189e+07   \n",
       "2021-05-11  54696.374470  56714.088910  -6094.859136  7.254929e+06   \n",
       "2021-05-12  49916.494499  49916.494499  27500.293596  1.947897e+07   \n",
       "2021-05-13  47337.445591  49729.302500  14154.322089  2.003597e+07   \n",
       "\n",
       "            profit_relative_df  \n",
       "date                            \n",
       "2011-08-17            0.654183  \n",
       "2011-08-18            0.633324  \n",
       "2011-08-19            0.673411  \n",
       "2011-08-20            0.663196  \n",
       "2011-08-21            0.658170  \n",
       "...                        ...  \n",
       "2021-05-09            0.948036  \n",
       "2021-05-10            0.876695  \n",
       "2021-05-11            0.908097  \n",
       "2021-05-12            0.797742  \n",
       "2021-05-13            0.803512  \n",
       "\n",
       "[3558 rows x 10 columns]"
      ]
     },
     "execution_count": 16,
     "metadata": {},
     "output_type": "execute_result"
    }
   ],
   "source": [
    "dataset"
   ]
  },
  {
   "cell_type": "code",
   "execution_count": 17,
   "metadata": {},
   "outputs": [],
   "source": [
    "# dataset['diff'] = dataset['price'].pct_change()\n",
    "# dataset.drop(columns='price', inplace=True)\n",
    "# dataset.dropna(inplace=True)\n",
    "# dataset"
   ]
  },
  {
   "cell_type": "code",
   "execution_count": 18,
   "metadata": {},
   "outputs": [],
   "source": [
    "def window_data(df, window, target_column, lag=0, target_as_feature=True):\n",
    "    Xdf = df\n",
    "    ydf = df[target_column]\n",
    "    if target_as_feature == False:\n",
    "        Xdf=Xdf.drop(columns=[target_column])\n",
    "    X, y = [], []\n",
    "    for i in range(len(Xdf)-window-lag):\n",
    "        features = Xdf[i+lag:i+window+lag]\n",
    "        X.append(features)\n",
    "    for i in range(len(ydf)-window-lag):\n",
    "        target = ydf[i+window+lag]\n",
    "        y.append(target)\n",
    "    return np.array(X), np.array(y).reshape(-1,1)\n",
    "    \n",
    "    "
   ]
  },
  {
   "cell_type": "code",
   "execution_count": 19,
   "metadata": {},
   "outputs": [],
   "source": [
    "X, y = window_data(data_new, 15, \"close\", 0, True)"
   ]
  },
  {
   "cell_type": "code",
   "execution_count": 20,
   "metadata": {},
   "outputs": [],
   "source": [
    "split = int(0.97 * len(X))\n",
    "X_train = X[: split]\n",
    "X_test = X[split:]\n",
    "y_train = y[: split]\n",
    "y_test = y[split:]"
   ]
  },
  {
   "cell_type": "code",
   "execution_count": 21,
   "metadata": {},
   "outputs": [],
   "source": [
    "scalers = {}\n",
    "for i in range(X_train.shape[1]):\n",
    "    scalers[i] = MinMaxScaler()\n",
    "    X_train[:, i, :] = scalers[i].fit_transform(X_train[:, i, :]) \n",
    "for i in range(X_test.shape[1]):\n",
    "    X_test[:, i, :] = scalers[i].transform(X_test[:, i, :])"
   ]
  },
  {
   "cell_type": "code",
   "execution_count": 22,
   "metadata": {},
   "outputs": [
    {
     "data": {
      "text/plain": [
       "(63, 15, 10)"
      ]
     },
     "execution_count": 22,
     "metadata": {},
     "output_type": "execute_result"
    }
   ],
   "source": [
    "X_test.shape"
   ]
  },
  {
   "cell_type": "code",
   "execution_count": 23,
   "metadata": {},
   "outputs": [],
   "source": [
    "sc = MinMaxScaler()\n",
    "sc.fit(y)\n",
    "y_train = sc.transform(y_train)\n",
    "y_test = sc.transform(y_test)"
   ]
  },
  {
   "cell_type": "code",
   "execution_count": 24,
   "metadata": {},
   "outputs": [
    {
     "name": "stdout",
     "output_type": "stream",
     "text": [
      "Epoch 1/10\n",
      "607/607 [==============================] - 8s 9ms/step - loss: 0.0239 - val_loss: 6.1117e-04\n",
      "Epoch 2/10\n",
      "607/607 [==============================] - 5s 8ms/step - loss: 0.0047 - val_loss: 6.0659e-04\n",
      "Epoch 3/10\n",
      "607/607 [==============================] - 5s 8ms/step - loss: 0.0030 - val_loss: 0.0084\n",
      "Epoch 4/10\n",
      "607/607 [==============================] - 5s 8ms/step - loss: 0.0034 - val_loss: 7.3073e-04\n",
      "Epoch 5/10\n",
      "607/607 [==============================] - 5s 8ms/step - loss: 0.0030 - val_loss: 0.0029\n",
      "Epoch 6/10\n",
      "607/607 [==============================] - 5s 8ms/step - loss: 0.0027 - val_loss: 7.4311e-04\n",
      "Epoch 7/10\n",
      "607/607 [==============================] - 5s 8ms/step - loss: 0.0026 - val_loss: 4.3379e-04\n",
      "Epoch 8/10\n",
      "607/607 [==============================] - 5s 8ms/step - loss: 0.0023 - val_loss: 3.9916e-04\n",
      "Epoch 9/10\n",
      "607/607 [==============================] - 5s 8ms/step - loss: 0.0027 - val_loss: 4.1158e-04\n",
      "Epoch 10/10\n",
      "607/607 [==============================] - 5s 8ms/step - loss: 0.0023 - val_loss: 0.0015\n"
     ]
    }
   ],
   "source": [
    "#GRU model\n",
    "model = Sequential()\n",
    "epochs = 10\n",
    "model.add(GRU(50, return_sequences=True, input_shape=(X_train.shape[1],10)))\n",
    "model.add(Dropout(0.2))\n",
    "model.add(GRU(32))\n",
    "model.add(Dropout(0.2))\n",
    "model.add(Dense(16))\n",
    "model.add(Dropout(0.2))\n",
    "model.add(Dense(1))\n",
    "model.compile(loss=\"mse\", optimizer=\"adam\")\n",
    "fit = model.fit(X_train, y_train, batch_size=3, epochs = epochs, validation_split=.1)"
   ]
  },
  {
   "cell_type": "code",
   "execution_count": 25,
   "metadata": {},
   "outputs": [
    {
     "name": "stdout",
     "output_type": "stream",
     "text": [
      "Model: \"sequential\"\n",
      "_________________________________________________________________\n",
      "Layer (type)                 Output Shape              Param #   \n",
      "=================================================================\n",
      "gru (GRU)                    (None, 15, 50)            9300      \n",
      "_________________________________________________________________\n",
      "dropout (Dropout)            (None, 15, 50)            0         \n",
      "_________________________________________________________________\n",
      "gru_1 (GRU)                  (None, 32)                8064      \n",
      "_________________________________________________________________\n",
      "dropout_1 (Dropout)          (None, 32)                0         \n",
      "_________________________________________________________________\n",
      "dense (Dense)                (None, 16)                528       \n",
      "_________________________________________________________________\n",
      "dropout_2 (Dropout)          (None, 16)                0         \n",
      "_________________________________________________________________\n",
      "dense_1 (Dense)              (None, 1)                 17        \n",
      "=================================================================\n",
      "Total params: 17,909\n",
      "Trainable params: 17,909\n",
      "Non-trainable params: 0\n",
      "_________________________________________________________________\n"
     ]
    }
   ],
   "source": [
    "model.summary()"
   ]
  },
  {
   "cell_type": "code",
   "execution_count": 26,
   "metadata": {},
   "outputs": [
    {
     "data": {
      "image/png": "[encoded data removed]",
      "text/plain": [
       "<Figure size 432x288 with 1 Axes>"
      ]
     },
     "metadata": {
      "needs_background": "light"
     },
     "output_type": "display_data"
    }
   ],
   "source": [
    "#Plot train vs validation loss\n",
    "plt.plot(fit.history['loss'])\n",
    "plt.plot(fit.history['val_loss'])\n",
    "plt.title('train vs validation loss')\n",
    "plt.ylabel('loss')\n",
    "plt.xlabel('epochs')\n",
    "plt.legend(['train', 'validation'], loc='upper right')\n",
    "plt.show()"
   ]
  },
  {
   "cell_type": "code",
   "execution_count": 27,
   "metadata": {},
   "outputs": [
    {
     "name": "stdout",
     "output_type": "stream",
     "text": [
      "2/2 [==============================] - 0s 4ms/step - loss: 0.0020\n"
     ]
    },
    {
     "data": {
      "text/plain": [
       "0.0020332802087068558"
      ]
     },
     "execution_count": 27,
     "metadata": {},
     "output_type": "execute_result"
    }
   ],
   "source": [
    "model.evaluate(X_test, y_test)"
   ]
  },
  {
   "cell_type": "code",
   "execution_count": 28,
   "metadata": {},
   "outputs": [
    {
     "data": {
      "text/plain": [
       "(63, 1)"
      ]
     },
     "execution_count": 28,
     "metadata": {},
     "output_type": "execute_result"
    }
   ],
   "source": [
    "predicted = model.predict(X_test)\n",
    "predicted.shape"
   ]
  },
  {
   "cell_type": "code",
   "execution_count": 29,
   "metadata": {},
   "outputs": [
    {
     "data": {
      "text/plain": [
       "0.002033280034524527"
      ]
     },
     "execution_count": 29,
     "metadata": {},
     "output_type": "execute_result"
    }
   ],
   "source": [
    "mse = mean_squared_error(y_test, predicted)\n",
    "mse"
   ]
  },
  {
   "cell_type": "code",
   "execution_count": 30,
   "metadata": {},
   "outputs": [
    {
     "data": {
      "text/plain": [
       "0.04509190653015824"
      ]
     },
     "execution_count": 30,
     "metadata": {},
     "output_type": "execute_result"
    }
   ],
   "source": [
    "np.sqrt(mse)"
   ]
  },
  {
   "cell_type": "code",
   "execution_count": 31,
   "metadata": {},
   "outputs": [],
   "source": [
    "predicted_close = sc.inverse_transform(predicted)\n",
    "actual_close = sc.inverse_transform(y_test.reshape(-1, 1))"
   ]
  },
  {
   "cell_type": "code",
   "execution_count": 32,
   "metadata": {},
   "outputs": [
    {
     "data": {
      "text/plain": [
       "<AxesSubplot:xlabel='date'>"
      ]
     },
     "execution_count": 32,
     "metadata": {},
     "output_type": "execute_result"
    },
    {
     "data": {
      "image/png": "[encoded data removed]",
      "text/plain": [
       "<Figure size 432x288 with 1 Axes>"
      ]
     },
     "metadata": {
      "needs_background": "light"
     },
     "output_type": "display_data"
    }
   ],
   "source": [
    "results_df = pd.DataFrame({\n",
    "    'actual_close': actual_close.ravel(),\n",
    "    \"predicted_close\": predicted_close.ravel()\n",
    "    }, index = dataset.index[-len(actual_close): ])\n",
    "results_df.plot()"
   ]
  },
  {
   "cell_type": "code",
   "execution_count": 33,
   "metadata": {},
   "outputs": [
    {
     "data": {
      "text/html": [
       "<div>\n",
       "<style scoped>\n",
       "    .dataframe tbody tr th:only-of-type {\n",
       "        vertical-align: middle;\n",
       "    }\n",
       "\n",
       "    .dataframe tbody tr th {\n",
       "        vertical-align: top;\n",
       "    }\n",
       "\n",
       "    .dataframe thead th {\n",
       "        text-align: right;\n",
       "    }\n",
       "</style>\n",
       "<table border=\"1\" class=\"dataframe\">\n",
       "  <thead>\n",
       "    <tr style=\"text-align: right;\">\n",
       "      <th></th>\n",
       "      <th>date</th>\n",
       "      <th>open</th>\n",
       "      <th>high</th>\n",
       "      <th>low</th>\n",
       "      <th>close</th>\n",
       "      <th>actual_close</th>\n",
       "      <th>predicted_close</th>\n",
       "      <th>predicted_perc_change</th>\n",
       "    </tr>\n",
       "  </thead>\n",
       "  <tbody>\n",
       "    <tr>\n",
       "      <th>57</th>\n",
       "      <td>2021-05-09</td>\n",
       "      <td>58949.175691</td>\n",
       "      <td>59210.881789</td>\n",
       "      <td>56594.240801</td>\n",
       "      <td>58218.566077</td>\n",
       "      <td>10774.426756</td>\n",
       "      <td>9899.776367</td>\n",
       "      <td>0.002646</td>\n",
       "    </tr>\n",
       "    <tr>\n",
       "      <th>58</th>\n",
       "      <td>2021-05-10</td>\n",
       "      <td>58313.694230</td>\n",
       "      <td>59463.950585</td>\n",
       "      <td>54558.287582</td>\n",
       "      <td>55824.861667</td>\n",
       "      <td>10721.327041</td>\n",
       "      <td>9902.447266</td>\n",
       "      <td>0.000270</td>\n",
       "    </tr>\n",
       "    <tr>\n",
       "      <th>59</th>\n",
       "      <td>2021-05-11</td>\n",
       "      <td>55828.260785</td>\n",
       "      <td>56870.394152</td>\n",
       "      <td>54696.374470</td>\n",
       "      <td>56714.088910</td>\n",
       "      <td>10848.830487</td>\n",
       "      <td>9950.916992</td>\n",
       "      <td>0.004895</td>\n",
       "    </tr>\n",
       "    <tr>\n",
       "      <th>60</th>\n",
       "      <td>2021-05-12</td>\n",
       "      <td>56701.747954</td>\n",
       "      <td>57907.816792</td>\n",
       "      <td>49916.494499</td>\n",
       "      <td>49916.494499</td>\n",
       "      <td>10787.617867</td>\n",
       "      <td>9961.370117</td>\n",
       "      <td>0.001050</td>\n",
       "    </tr>\n",
       "    <tr>\n",
       "      <th>61</th>\n",
       "      <td>2021-05-13</td>\n",
       "      <td>47376.082299</td>\n",
       "      <td>51264.958830</td>\n",
       "      <td>47337.445591</td>\n",
       "      <td>49729.302500</td>\n",
       "      <td>10623.330125</td>\n",
       "      <td>9949.061523</td>\n",
       "      <td>-0.001236</td>\n",
       "    </tr>\n",
       "  </tbody>\n",
       "</table>\n",
       "</div>"
      ],
      "text/plain": [
       "         date          open          high           low         close  \\\n",
       "57 2021-05-09  58949.175691  59210.881789  56594.240801  58218.566077   \n",
       "58 2021-05-10  58313.694230  59463.950585  54558.287582  55824.861667   \n",
       "59 2021-05-11  55828.260785  56870.394152  54696.374470  56714.088910   \n",
       "60 2021-05-12  56701.747954  57907.816792  49916.494499  49916.494499   \n",
       "61 2021-05-13  47376.082299  51264.958830  47337.445591  49729.302500   \n",
       "\n",
       "    actual_close  predicted_close  predicted_perc_change  \n",
       "57  10774.426756      9899.776367               0.002646  \n",
       "58  10721.327041      9902.447266               0.000270  \n",
       "59  10848.830487      9950.916992               0.004895  \n",
       "60  10787.617867      9961.370117               0.001050  \n",
       "61  10623.330125      9949.061523              -0.001236  "
      ]
     },
     "execution_count": 33,
     "metadata": {},
     "output_type": "execute_result"
    }
   ],
   "source": [
    "results_prices_df = pd.concat([ohlc_df, results_df], axis=1, join='inner')\n",
    "results_prices_df['predicted_perc_change'] = results_prices_df['predicted_close'].pct_change()\n",
    "results_prices_df.dropna(inplace=True)\n",
    "results_prices_df.reset_index(inplace=True)\n",
    "results_prices_df.tail()"
   ]
  },
  {
   "cell_type": "code",
   "execution_count": 36,
   "metadata": {},
   "outputs": [
    {
     "name": "stdout",
     "output_type": "stream",
     "text": [
      "2624.1000085881096\n",
      "300.1353589852006\n",
      "4\n",
      "5\n"
     ]
    },
    {
     "data": {
      "text/html": [
       "<div>\n",
       "<style scoped>\n",
       "    .dataframe tbody tr th:only-of-type {\n",
       "        vertical-align: middle;\n",
       "    }\n",
       "\n",
       "    .dataframe tbody tr th {\n",
       "        vertical-align: top;\n",
       "    }\n",
       "\n",
       "    .dataframe thead th {\n",
       "        text-align: right;\n",
       "    }\n",
       "</style>\n",
       "<table border=\"1\" class=\"dataframe\">\n",
       "  <thead>\n",
       "    <tr style=\"text-align: right;\">\n",
       "      <th></th>\n",
       "      <th>Buy Price</th>\n",
       "      <th>Sell Price</th>\n",
       "      <th>Return</th>\n",
       "      <th>Cumulative Returns</th>\n",
       "    </tr>\n",
       "  </thead>\n",
       "  <tbody>\n",
       "    <tr>\n",
       "      <th>0</th>\n",
       "      <td>61221.134297</td>\n",
       "      <td>59267.429049</td>\n",
       "      <td>-1953.705248</td>\n",
       "      <td>-1953.705248</td>\n",
       "    </tr>\n",
       "    <tr>\n",
       "      <th>1</th>\n",
       "      <td>59017.127972</td>\n",
       "      <td>54625.474213</td>\n",
       "      <td>-4391.653760</td>\n",
       "      <td>-6345.359008</td>\n",
       "    </tr>\n",
       "    <tr>\n",
       "      <th>2</th>\n",
       "      <td>52530.399667</td>\n",
       "      <td>58969.000845</td>\n",
       "      <td>6438.601179</td>\n",
       "      <td>93.242171</td>\n",
       "    </tr>\n",
       "    <tr>\n",
       "      <th>3</th>\n",
       "      <td>59268.318669</td>\n",
       "      <td>58176.499309</td>\n",
       "      <td>-1091.819360</td>\n",
       "      <td>-998.577189</td>\n",
       "    </tr>\n",
       "    <tr>\n",
       "      <th>4</th>\n",
       "      <td>58240.816898</td>\n",
       "      <td>59919.357709</td>\n",
       "      <td>1678.540810</td>\n",
       "      <td>679.963621</td>\n",
       "    </tr>\n",
       "    <tr>\n",
       "      <th>5</th>\n",
       "      <td>60296.393204</td>\n",
       "      <td>63411.565597</td>\n",
       "      <td>3115.172393</td>\n",
       "      <td>3795.136013</td>\n",
       "    </tr>\n",
       "    <tr>\n",
       "      <th>6</th>\n",
       "      <td>53857.106895</td>\n",
       "      <td>51143.226275</td>\n",
       "      <td>-2713.880620</td>\n",
       "      <td>1081.255393</td>\n",
       "    </tr>\n",
       "    <tr>\n",
       "      <th>7</th>\n",
       "      <td>50115.160572</td>\n",
       "      <td>49077.022208</td>\n",
       "      <td>-1038.138364</td>\n",
       "      <td>43.117029</td>\n",
       "    </tr>\n",
       "    <tr>\n",
       "      <th>8</th>\n",
       "      <td>54042.054388</td>\n",
       "      <td>56623.037367</td>\n",
       "      <td>2580.982980</td>\n",
       "      <td>2624.100009</td>\n",
       "    </tr>\n",
       "  </tbody>\n",
       "</table>\n",
       "</div>"
      ],
      "text/plain": [
       "      Buy Price    Sell Price       Return  Cumulative Returns\n",
       "0  61221.134297  59267.429049 -1953.705248        -1953.705248\n",
       "1  59017.127972  54625.474213 -4391.653760        -6345.359008\n",
       "2  52530.399667  58969.000845  6438.601179           93.242171\n",
       "3  59268.318669  58176.499309 -1091.819360         -998.577189\n",
       "4  58240.816898  59919.357709  1678.540810          679.963621\n",
       "5  60296.393204  63411.565597  3115.172393         3795.136013\n",
       "6  53857.106895  51143.226275 -2713.880620         1081.255393\n",
       "7  50115.160572  49077.022208 -1038.138364           43.117029\n",
       "8  54042.054388  56623.037367  2580.982980         2624.100009"
      ]
     },
     "execution_count": 36,
     "metadata": {},
     "output_type": "execute_result"
    }
   ],
   "source": [
    "position=0\n",
    "realized_profit = 0\n",
    "unrealized_profit = 0 \n",
    "profitable_transactions=0\n",
    "unprofitable_transactions=0\n",
    "transaction_list = []\n",
    "data_size = len(results_prices_df.index)\n",
    "\n",
    "for index, value in results_prices_df.iterrows():\n",
    "    if index<data_size-1 and index > 0:\n",
    "        \n",
    "        open_price = results_prices_df.iloc[index]['open']\n",
    "        close_price = results_prices_df.iloc[index]['close']\n",
    "        yest_close_price = results_prices_df.iloc[index-1]['close']\n",
    "        perc_change = results_prices_df.iloc[index]['predicted_perc_change']\n",
    "\n",
    "        if position == 1:\n",
    "            unrealized_profit = yest_close_price - buy_price\n",
    "        if perc_change > 0:\n",
    "            if position == 0:\n",
    "                buy_price = open_price\n",
    "                position = 1\n",
    "        if perc_change < 0:\n",
    "            if position ==1:\n",
    "                sell_price = open_price\n",
    "                position = 0\n",
    "                trans_profit = sell_price-buy_price\n",
    "                unrealized_profit = 0 \n",
    "                realized_profit += trans_profit\n",
    "                transaction_list.append({'Buy Price': buy_price, 'Sell Price': sell_price})\n",
    "                if trans_profit>=0:\n",
    "                    profitable_transactions+=1\n",
    "                else:\n",
    "                    unprofitable_transactions+=1\n",
    "\n",
    "            \n",
    "            \n",
    "            \n",
    "print(realized_profit)\n",
    "print(unrealized_profit)\n",
    "print(profitable_transactions)\n",
    "print(unprofitable_transactions)\n",
    "transaction_df = pd.DataFrame(transaction_list)\n",
    "transaction_df['Return'] = transaction_df['Sell Price'] - transaction_df['Buy Price']\n",
    "transaction_df['Cumulative Returns'] = transaction_df['Return'].cumsum()\n",
    "transaction_df\n"
   ]
  },
  {
   "cell_type": "code",
   "execution_count": 35,
   "metadata": {},
   "outputs": [
    {
     "data": {
      "image/png": "[encoded data removed]",
      "text/plain": [
       "<Figure size 432x288 with 1 Axes>"
      ]
     },
     "metadata": {
      "needs_background": "light"
     },
     "output_type": "display_data"
    }
   ],
   "source": [
    "plt.plot(transaction_df['Cumulative Returns'])\n",
    "plt.ylabel('$')\n",
    "plt.xlabel('trades')\n",
    "plt.title('Cumulative Returns of Trading Strategy')\n",
    "plt.show()"
   ]
  },
  {
   "cell_type": "code",
   "execution_count": null,
   "metadata": {},
   "outputs": [],
   "source": []
  },
  {
   "cell_type": "code",
   "execution_count": null,
   "metadata": {},
   "outputs": [],
   "source": []
  }
 ],
 "metadata": {
  "kernelspec": {
   "display_name": "Python [conda env:mlenv] *",
   "language": "python",
   "name": "conda-env-mlenv-py"
  },
  "language_info": {
   "codemirror_mode": {
    "name": "ipython",
    "version": 3
   },
   "file_extension": ".py",
   "mimetype": "text/x-python",
   "name": "python",
   "nbconvert_exporter": "python",
   "pygments_lexer": "ipython3",
   "version": "3.7.9"
  }
 },
 "nbformat": 4,
 "nbformat_minor": 4
}
