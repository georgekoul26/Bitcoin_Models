{
 "cells": [
  {
   "cell_type": "code",
   "execution_count": 366,
   "metadata": {},
   "outputs": [],
   "source": [
    "##Test\n"
   ]
  },
  {
   "cell_type": "code",
   "execution_count": 1,
   "metadata": {},
   "outputs": [],
   "source": [
    "#Import Libraries\n",
    "import requests\n",
    "import json\n",
    "import pandas as pd\n",
    "from sklearn.preprocessing import MinMaxScaler\n",
    "from tensorflow.keras.models import Sequential\n",
    "from tensorflow.keras.layers import LSTM, Dense, Dropout\n",
    "import numpy as np\n",
    "import matplotlib.pyplot as plt"
   ]
  },
  {
   "cell_type": "code",
   "execution_count": 2,
   "metadata": {},
   "outputs": [],
   "source": [
    "from numpy.random import seed\n",
    "\n",
    "seed(1)\n",
    "from tensorflow import random\n",
    "\n",
    "random.set_seed(2)"
   ]
  },
  {
   "cell_type": "code",
   "execution_count": 3,
   "metadata": {},
   "outputs": [],
   "source": [
    "#Pull factors and BTC price from Glassnode Api\n",
    "API_KEY = \"1rwUpyBLJnEo1qGTFlLuz1CgeTx\"\n",
    "vol = requests.get('https://api.glassnode.com/v1/metrics/transactions/transfers_volume_sum',\n",
    "    params={'a': 'BTC', 'api_key': API_KEY})\n",
    "\n",
    "# convert to pandas dataframe\n",
    "vol_df = pd.read_json(vol.text, convert_dates=['t'])\n",
    "\n",
    "dorm = requests.get('https://api.glassnode.com/v1/metrics/indicators/average_dormancy',\n",
    "    params={'a': 'BTC', 'api_key': API_KEY})\n",
    "\n",
    "# convert to pandas dataframe\n",
    "dormancy_df = pd.read_json(dorm.text, convert_dates=['t'])\n",
    "\n",
    "# make API request\n",
    "asopr = requests.get('https://api.glassnode.com/v1/metrics/indicators/sopr_adjusted',\n",
    "    params={'a': 'BTC', 'api_key': API_KEY})\n",
    "\n",
    "# convert to pandas dataframe\n",
    "asopr_df = pd.read_json(asopr.text, convert_dates=['t'])\n",
    "asopr_df.head()\n",
    "\n",
    "# make API request\n",
    "price_res = requests.get('https://api.glassnode.com/v1/metrics/market/price_usd_close',\n",
    "    params={'a': 'BTC', 'api_key': API_KEY})\n",
    "\n",
    "# convert to pandas dataframe\n",
    "price_df = pd.read_json(price_res.text, convert_dates=['t'])\n",
    "\n",
    "# make API request\n",
    "exch_flow = requests.get('https://api.glassnode.com/v1/metrics/transactions/transfers_volume_exchanges_net',\n",
    "    params={'a': 'BTC', 'api_key': API_KEY})\n",
    "\n",
    "# convert to pandas dataframe\n",
    "exch_df = pd.read_json(exch_flow.text, convert_dates=['t'])\n",
    "\n",
    "# make API request\n",
    "cdd = requests.get('https://api.glassnode.com/v1/metrics/indicators/cdd',\n",
    "    params={'a': 'BTC', 'api_key': API_KEY})\n",
    "\n",
    "# convert to pandas dataframe\n",
    "cdd_df = pd.read_json(cdd.text, convert_dates=['t'])\n",
    "\n",
    "# make API request\n",
    "profit_relative = requests.get('https://api.glassnode.com/v1/metrics/supply/profit_relative',\n",
    "    params={'a': 'BTC', 'api_key': API_KEY})\n",
    "\n",
    "# convert to pandas dataframe\n",
    "profit_relative_df = pd.read_json(profit_relative.text, convert_dates=['t'])\n",
    "\n",
    "\n",
    "#convert to OHLCpandas dataframe\n",
    "ohlc = requests.get('https://api.glassnode.com/v1/metrics/market/price_usd_ohlc',\n",
    "                    params={'a': 'BTC', 'api_key': API_KEY})\n",
    "j = ohlc.json()\n",
    "ohlc_array=[]\n",
    "for t in j:\n",
    "    newdict={}\n",
    "    newdict['t']=t['t']\n",
    "    newdict['o']=t['o']['o']\n",
    "    newdict['h']=t['o']['h']\n",
    "    newdict['l']=t['o']['l']\n",
    "    newdict['c']=t['o']['c']\n",
    "    ohlc_array.append(newdict)\n",
    "ohlc_df = pd.DataFrame(ohlc_array)\n",
    "result = ohlc_df.to_json(orient=\"records\")\n",
    "ohlc_df = pd.read_json(result, convert_dates=['t'])\n",
    "\n",
    "\n"
   ]
  },
  {
   "cell_type": "code",
   "execution_count": 4,
   "metadata": {},
   "outputs": [],
   "source": [
    "ohlc_df.rename(columns = {'t':'date', 'o':'open', 'h':'high', 'l':'low', 'c':'close'}, inplace=True)\n",
    "ohlc_df.set_index('date', inplace=True)"
   ]
  },
  {
   "cell_type": "code",
   "execution_count": 5,
   "metadata": {},
   "outputs": [],
   "source": [
    "vol_df.rename(columns = {'t':'date', 'v':'vol'}, inplace=True)\n",
    "vol_df.set_index('date', inplace=True)\n"
   ]
  },
  {
   "cell_type": "code",
   "execution_count": 6,
   "metadata": {},
   "outputs": [],
   "source": [
    "dormancy_df.rename(columns = {'t':'date', 'v':'dormancy'}, inplace=True)\n",
    "dormancy_df.set_index('date', inplace=True)\n"
   ]
  },
  {
   "cell_type": "code",
   "execution_count": 7,
   "metadata": {},
   "outputs": [],
   "source": [
    "asopr_df.rename(columns = {'t':'date', 'v':'asopr'}, inplace=True)\n",
    "asopr_df.set_index('date', inplace=True)"
   ]
  },
  {
   "cell_type": "code",
   "execution_count": 8,
   "metadata": {},
   "outputs": [],
   "source": [
    "price_df.rename(columns = {'t':'date', 'v':'price'}, inplace=True)\n",
    "price_df.set_index('date', inplace=True)"
   ]
  },
  {
   "cell_type": "code",
   "execution_count": 9,
   "metadata": {},
   "outputs": [],
   "source": [
    "exch_df.rename(columns = {'t':'date', 'v':'flow'}, inplace=True)\n",
    "exch_df.set_index('date', inplace=True)"
   ]
  },
  {
   "cell_type": "code",
   "execution_count": 10,
   "metadata": {},
   "outputs": [],
   "source": [
    "cdd_df.rename(columns = {'t':'date', 'v':'cdd'}, inplace=True)\n",
    "cdd_df.set_index('date', inplace=True)"
   ]
  },
  {
   "cell_type": "code",
   "execution_count": 11,
   "metadata": {},
   "outputs": [],
   "source": [
    "profit_relative_df.rename(columns = {'t':'date', 'v':'profit_relative_df'}, inplace=True)\n",
    "profit_relative_df.set_index('date', inplace=True)"
   ]
  },
  {
   "cell_type": "code",
   "execution_count": 12,
   "metadata": {},
   "outputs": [
    {
     "data": {
      "text/html": [
       "<div>\n",
       "<style scoped>\n",
       "    .dataframe tbody tr th:only-of-type {\n",
       "        vertical-align: middle;\n",
       "    }\n",
       "\n",
       "    .dataframe tbody tr th {\n",
       "        vertical-align: top;\n",
       "    }\n",
       "\n",
       "    .dataframe thead th {\n",
       "        text-align: right;\n",
       "    }\n",
       "</style>\n",
       "<table border=\"1\" class=\"dataframe\">\n",
       "  <thead>\n",
       "    <tr style=\"text-align: right;\">\n",
       "      <th></th>\n",
       "      <th>vol</th>\n",
       "      <th>dormancy</th>\n",
       "      <th>asopr</th>\n",
       "      <th>open</th>\n",
       "      <th>high</th>\n",
       "      <th>low</th>\n",
       "      <th>close</th>\n",
       "      <th>flow</th>\n",
       "      <th>cdd</th>\n",
       "      <th>profit_relative_df</th>\n",
       "    </tr>\n",
       "    <tr>\n",
       "      <th>date</th>\n",
       "      <th></th>\n",
       "      <th></th>\n",
       "      <th></th>\n",
       "      <th></th>\n",
       "      <th></th>\n",
       "      <th></th>\n",
       "      <th></th>\n",
       "      <th></th>\n",
       "      <th></th>\n",
       "      <th></th>\n",
       "    </tr>\n",
       "  </thead>\n",
       "  <tbody>\n",
       "    <tr>\n",
       "      <th>2011-08-17</th>\n",
       "      <td>3.230502e+05</td>\n",
       "      <td>2.860031</td>\n",
       "      <td>1.023796</td>\n",
       "      <td>10.943860</td>\n",
       "      <td>11.095782</td>\n",
       "      <td>10.686489</td>\n",
       "      <td>10.993067</td>\n",
       "      <td>0.007500</td>\n",
       "      <td>9.222607e+05</td>\n",
       "      <td>0.654183</td>\n",
       "    </tr>\n",
       "    <tr>\n",
       "      <th>2011-08-18</th>\n",
       "      <td>4.002768e+05</td>\n",
       "      <td>3.039587</td>\n",
       "      <td>1.018691</td>\n",
       "      <td>10.946207</td>\n",
       "      <td>11.030015</td>\n",
       "      <td>10.350000</td>\n",
       "      <td>10.847018</td>\n",
       "      <td>8.049029</td>\n",
       "      <td>1.214820e+06</td>\n",
       "      <td>0.633324</td>\n",
       "    </tr>\n",
       "    <tr>\n",
       "      <th>2011-08-19</th>\n",
       "      <td>5.561058e+05</td>\n",
       "      <td>1.548021</td>\n",
       "      <td>1.009232</td>\n",
       "      <td>10.869213</td>\n",
       "      <td>11.740022</td>\n",
       "      <td>10.802218</td>\n",
       "      <td>11.650000</td>\n",
       "      <td>39.591418</td>\n",
       "      <td>8.595439e+05</td>\n",
       "      <td>0.673411</td>\n",
       "    </tr>\n",
       "    <tr>\n",
       "      <th>2011-08-20</th>\n",
       "      <td>2.246163e+05</td>\n",
       "      <td>3.934542</td>\n",
       "      <td>1.026221</td>\n",
       "      <td>11.651622</td>\n",
       "      <td>11.656323</td>\n",
       "      <td>10.720000</td>\n",
       "      <td>11.450998</td>\n",
       "      <td>-8.048029</td>\n",
       "      <td>8.800028e+05</td>\n",
       "      <td>0.663196</td>\n",
       "    </tr>\n",
       "    <tr>\n",
       "      <th>2011-08-21</th>\n",
       "      <td>2.428926e+05</td>\n",
       "      <td>1.686685</td>\n",
       "      <td>0.993798</td>\n",
       "      <td>11.452000</td>\n",
       "      <td>11.499200</td>\n",
       "      <td>11.112000</td>\n",
       "      <td>11.323212</td>\n",
       "      <td>1.819000</td>\n",
       "      <td>4.080212e+05</td>\n",
       "      <td>0.658170</td>\n",
       "    </tr>\n",
       "    <tr>\n",
       "      <th>...</th>\n",
       "      <td>...</td>\n",
       "      <td>...</td>\n",
       "      <td>...</td>\n",
       "      <td>...</td>\n",
       "      <td>...</td>\n",
       "      <td>...</td>\n",
       "      <td>...</td>\n",
       "      <td>...</td>\n",
       "      <td>...</td>\n",
       "      <td>...</td>\n",
       "    </tr>\n",
       "    <tr>\n",
       "      <th>2021-05-07</th>\n",
       "      <td>1.939428e+06</td>\n",
       "      <td>32.867983</td>\n",
       "      <td>1.105494</td>\n",
       "      <td>56413.953551</td>\n",
       "      <td>58516.499418</td>\n",
       "      <td>55404.680358</td>\n",
       "      <td>57369.557999</td>\n",
       "      <td>-9522.714410</td>\n",
       "      <td>2.461146e+07</td>\n",
       "      <td>0.925951</td>\n",
       "    </tr>\n",
       "    <tr>\n",
       "      <th>2021-05-08</th>\n",
       "      <td>1.376119e+06</td>\n",
       "      <td>15.760862</td>\n",
       "      <td>1.043171</td>\n",
       "      <td>57352.765953</td>\n",
       "      <td>59454.684237</td>\n",
       "      <td>57061.019638</td>\n",
       "      <td>58766.584875</td>\n",
       "      <td>4655.226832</td>\n",
       "      <td>6.680947e+06</td>\n",
       "      <td>0.959921</td>\n",
       "    </tr>\n",
       "    <tr>\n",
       "      <th>2021-05-09</th>\n",
       "      <td>1.085785e+06</td>\n",
       "      <td>22.308682</td>\n",
       "      <td>1.040930</td>\n",
       "      <td>58949.175691</td>\n",
       "      <td>59210.881789</td>\n",
       "      <td>56594.240801</td>\n",
       "      <td>58218.566077</td>\n",
       "      <td>7768.951037</td>\n",
       "      <td>9.067803e+06</td>\n",
       "      <td>0.948036</td>\n",
       "    </tr>\n",
       "    <tr>\n",
       "      <th>2021-05-10</th>\n",
       "      <td>1.412837e+06</td>\n",
       "      <td>16.661084</td>\n",
       "      <td>1.030398</td>\n",
       "      <td>58313.694230</td>\n",
       "      <td>59463.950585</td>\n",
       "      <td>54558.287582</td>\n",
       "      <td>55824.861667</td>\n",
       "      <td>3177.461347</td>\n",
       "      <td>1.016189e+07</td>\n",
       "      <td>0.876695</td>\n",
       "    </tr>\n",
       "    <tr>\n",
       "      <th>2021-05-11</th>\n",
       "      <td>1.204164e+06</td>\n",
       "      <td>14.106913</td>\n",
       "      <td>1.010814</td>\n",
       "      <td>55828.260785</td>\n",
       "      <td>56870.394152</td>\n",
       "      <td>54696.374470</td>\n",
       "      <td>56714.088910</td>\n",
       "      <td>-8217.146875</td>\n",
       "      <td>7.254929e+06</td>\n",
       "      <td>0.908097</td>\n",
       "    </tr>\n",
       "  </tbody>\n",
       "</table>\n",
       "<p>3556 rows × 10 columns</p>\n",
       "</div>"
      ],
      "text/plain": [
       "                     vol   dormancy     asopr          open          high  \\\n",
       "date                                                                        \n",
       "2011-08-17  3.230502e+05   2.860031  1.023796     10.943860     11.095782   \n",
       "2011-08-18  4.002768e+05   3.039587  1.018691     10.946207     11.030015   \n",
       "2011-08-19  5.561058e+05   1.548021  1.009232     10.869213     11.740022   \n",
       "2011-08-20  2.246163e+05   3.934542  1.026221     11.651622     11.656323   \n",
       "2011-08-21  2.428926e+05   1.686685  0.993798     11.452000     11.499200   \n",
       "...                  ...        ...       ...           ...           ...   \n",
       "2021-05-07  1.939428e+06  32.867983  1.105494  56413.953551  58516.499418   \n",
       "2021-05-08  1.376119e+06  15.760862  1.043171  57352.765953  59454.684237   \n",
       "2021-05-09  1.085785e+06  22.308682  1.040930  58949.175691  59210.881789   \n",
       "2021-05-10  1.412837e+06  16.661084  1.030398  58313.694230  59463.950585   \n",
       "2021-05-11  1.204164e+06  14.106913  1.010814  55828.260785  56870.394152   \n",
       "\n",
       "                     low         close         flow           cdd  \\\n",
       "date                                                                \n",
       "2011-08-17     10.686489     10.993067     0.007500  9.222607e+05   \n",
       "2011-08-18     10.350000     10.847018     8.049029  1.214820e+06   \n",
       "2011-08-19     10.802218     11.650000    39.591418  8.595439e+05   \n",
       "2011-08-20     10.720000     11.450998    -8.048029  8.800028e+05   \n",
       "2011-08-21     11.112000     11.323212     1.819000  4.080212e+05   \n",
       "...                  ...           ...          ...           ...   \n",
       "2021-05-07  55404.680358  57369.557999 -9522.714410  2.461146e+07   \n",
       "2021-05-08  57061.019638  58766.584875  4655.226832  6.680947e+06   \n",
       "2021-05-09  56594.240801  58218.566077  7768.951037  9.067803e+06   \n",
       "2021-05-10  54558.287582  55824.861667  3177.461347  1.016189e+07   \n",
       "2021-05-11  54696.374470  56714.088910 -8217.146875  7.254929e+06   \n",
       "\n",
       "            profit_relative_df  \n",
       "date                            \n",
       "2011-08-17            0.654183  \n",
       "2011-08-18            0.633324  \n",
       "2011-08-19            0.673411  \n",
       "2011-08-20            0.663196  \n",
       "2011-08-21            0.658170  \n",
       "...                        ...  \n",
       "2021-05-07            0.925951  \n",
       "2021-05-08            0.959921  \n",
       "2021-05-09            0.948036  \n",
       "2021-05-10            0.876695  \n",
       "2021-05-11            0.908097  \n",
       "\n",
       "[3556 rows x 10 columns]"
      ]
     },
     "execution_count": 12,
     "metadata": {},
     "output_type": "execute_result"
    }
   ],
   "source": [
    "dataset = pd.concat([vol_df, dormancy_df, asopr_df, ohlc_df, exch_df, cdd_df,profit_relative_df], axis=1, join='inner')\n",
    "# dataset = pd.concat([vol_df, ohlc_df], axis=1, join='inner')\n",
    "# dataset['5Day']=dataset['price'].rolling(window=5).mean()\n",
    "# dataset['25Day']=dataset['price'].rolling(window=25).mean()\n",
    "# dataset['50Day']=dataset['price'].rolling(window=50).mean()\n",
    "# dataset['5DayFloor']=dataset['price'].rolling(window=5).min()\n",
    "# dataset['25DayFloor']=dataset['price'].rolling(window=25).min()\n",
    "# dataset['50DayFloor']=dataset['price'].rolling(window=50).min()\n",
    "# dataset['ewm'] = dataset['price'].ewm(com=.5).mean()\n",
    "dataset"
   ]
  },
  {
   "cell_type": "code",
   "execution_count": 13,
   "metadata": {},
   "outputs": [],
   "source": [
    "dataset.dropna(inplace=True)"
   ]
  },
  {
   "cell_type": "code",
   "execution_count": 14,
   "metadata": {},
   "outputs": [
    {
     "data": {
      "text/plain": [
       "(3556, 10)"
      ]
     },
     "execution_count": 14,
     "metadata": {},
     "output_type": "execute_result"
    }
   ],
   "source": [
    "dataset.shape"
   ]
  },
  {
   "cell_type": "code",
   "execution_count": 15,
   "metadata": {},
   "outputs": [
    {
     "data": {
      "text/html": [
       "<div>\n",
       "<style scoped>\n",
       "    .dataframe tbody tr th:only-of-type {\n",
       "        vertical-align: middle;\n",
       "    }\n",
       "\n",
       "    .dataframe tbody tr th {\n",
       "        vertical-align: top;\n",
       "    }\n",
       "\n",
       "    .dataframe thead th {\n",
       "        text-align: right;\n",
       "    }\n",
       "</style>\n",
       "<table border=\"1\" class=\"dataframe\">\n",
       "  <thead>\n",
       "    <tr style=\"text-align: right;\">\n",
       "      <th></th>\n",
       "      <th>vol</th>\n",
       "      <th>dormancy</th>\n",
       "      <th>asopr</th>\n",
       "      <th>open</th>\n",
       "      <th>high</th>\n",
       "      <th>low</th>\n",
       "      <th>close</th>\n",
       "      <th>flow</th>\n",
       "      <th>cdd</th>\n",
       "      <th>profit_relative_df</th>\n",
       "    </tr>\n",
       "    <tr>\n",
       "      <th>date</th>\n",
       "      <th></th>\n",
       "      <th></th>\n",
       "      <th></th>\n",
       "      <th></th>\n",
       "      <th></th>\n",
       "      <th></th>\n",
       "      <th></th>\n",
       "      <th></th>\n",
       "      <th></th>\n",
       "      <th></th>\n",
       "    </tr>\n",
       "  </thead>\n",
       "  <tbody>\n",
       "    <tr>\n",
       "      <th>2015-01-01</th>\n",
       "      <td>4.646205e+05</td>\n",
       "      <td>2.302504</td>\n",
       "      <td>0.987951</td>\n",
       "      <td>320.987415</td>\n",
       "      <td>320.987415</td>\n",
       "      <td>313.739880</td>\n",
       "      <td>314.025456</td>\n",
       "      <td>124.391488</td>\n",
       "      <td>9.468414e+05</td>\n",
       "      <td>0.454863</td>\n",
       "    </tr>\n",
       "    <tr>\n",
       "      <th>2015-01-02</th>\n",
       "      <td>7.280903e+05</td>\n",
       "      <td>2.879840</td>\n",
       "      <td>0.978582</td>\n",
       "      <td>313.973633</td>\n",
       "      <td>316.759759</td>\n",
       "      <td>312.847921</td>\n",
       "      <td>315.687161</td>\n",
       "      <td>790.763344</td>\n",
       "      <td>1.942400e+06</td>\n",
       "      <td>0.463323</td>\n",
       "    </tr>\n",
       "    <tr>\n",
       "      <th>2015-01-03</th>\n",
       "      <td>8.367299e+05</td>\n",
       "      <td>6.160422</td>\n",
       "      <td>0.923681</td>\n",
       "      <td>315.313701</td>\n",
       "      <td>316.529810</td>\n",
       "      <td>283.006535</td>\n",
       "      <td>283.006535</td>\n",
       "      <td>4634.540821</td>\n",
       "      <td>4.768928e+06</td>\n",
       "      <td>0.421309</td>\n",
       "    </tr>\n",
       "    <tr>\n",
       "      <th>2015-01-04</th>\n",
       "      <td>1.129690e+06</td>\n",
       "      <td>6.023914</td>\n",
       "      <td>0.915979</td>\n",
       "      <td>280.469412</td>\n",
       "      <td>288.253558</td>\n",
       "      <td>256.121596</td>\n",
       "      <td>263.807883</td>\n",
       "      <td>-897.057854</td>\n",
       "      <td>5.944678e+06</td>\n",
       "      <td>0.423702</td>\n",
       "    </tr>\n",
       "    <tr>\n",
       "      <th>2015-01-05</th>\n",
       "      <td>1.134569e+06</td>\n",
       "      <td>4.854263</td>\n",
       "      <td>0.901450</td>\n",
       "      <td>264.973697</td>\n",
       "      <td>279.195639</td>\n",
       "      <td>264.973697</td>\n",
       "      <td>276.800000</td>\n",
       "      <td>7898.518534</td>\n",
       "      <td>5.045935e+06</td>\n",
       "      <td>0.428064</td>\n",
       "    </tr>\n",
       "  </tbody>\n",
       "</table>\n",
       "</div>"
      ],
      "text/plain": [
       "                     vol  dormancy     asopr        open        high  \\\n",
       "date                                                                   \n",
       "2015-01-01  4.646205e+05  2.302504  0.987951  320.987415  320.987415   \n",
       "2015-01-02  7.280903e+05  2.879840  0.978582  313.973633  316.759759   \n",
       "2015-01-03  8.367299e+05  6.160422  0.923681  315.313701  316.529810   \n",
       "2015-01-04  1.129690e+06  6.023914  0.915979  280.469412  288.253558   \n",
       "2015-01-05  1.134569e+06  4.854263  0.901450  264.973697  279.195639   \n",
       "\n",
       "                   low       close         flow           cdd  \\\n",
       "date                                                            \n",
       "2015-01-01  313.739880  314.025456   124.391488  9.468414e+05   \n",
       "2015-01-02  312.847921  315.687161   790.763344  1.942400e+06   \n",
       "2015-01-03  283.006535  283.006535  4634.540821  4.768928e+06   \n",
       "2015-01-04  256.121596  263.807883  -897.057854  5.944678e+06   \n",
       "2015-01-05  264.973697  276.800000  7898.518534  5.045935e+06   \n",
       "\n",
       "            profit_relative_df  \n",
       "date                            \n",
       "2015-01-01            0.454863  \n",
       "2015-01-02            0.463323  \n",
       "2015-01-03            0.421309  \n",
       "2015-01-04            0.423702  \n",
       "2015-01-05            0.428064  "
      ]
     },
     "execution_count": 15,
     "metadata": {},
     "output_type": "execute_result"
    }
   ],
   "source": [
    "dataset = dataset['2015-01-01':]\n",
    "dataset.head()"
   ]
  },
  {
   "cell_type": "code",
   "execution_count": 16,
   "metadata": {},
   "outputs": [],
   "source": [
    "# dataset['ewm'] = dataset['price'].ewm(com=.5).mean()\n",
    "# dataset"
   ]
  },
  {
   "cell_type": "code",
   "execution_count": 17,
   "metadata": {},
   "outputs": [],
   "source": [
    "def window_data(df, window, target_column, lag=0, target_as_feature=True):\n",
    "    Xdf = df\n",
    "    ydf = df[target_column]\n",
    "    if target_as_feature == False:\n",
    "        Xdf=Xdf.drop(columns=[target_column])\n",
    "    X, y = [], []\n",
    "    for i in range(len(Xdf)-window-lag):\n",
    "        features = Xdf[i+lag:i+window+lag]\n",
    "        X.append(features)\n",
    "    for i in range(len(ydf)-window-lag):\n",
    "        target = ydf[i+window+lag]\n",
    "        y.append(target)\n",
    "    return np.array(X), np.array(y).reshape(-1,1)\n",
    "    \n",
    "    \n",
    "    "
   ]
  },
  {
   "cell_type": "code",
   "execution_count": 18,
   "metadata": {},
   "outputs": [],
   "source": [
    "X, y = window_data(dataset, 20, \"close\", 0, True)"
   ]
  },
  {
   "cell_type": "code",
   "execution_count": 19,
   "metadata": {},
   "outputs": [],
   "source": [
    "split = int(0.8 * len(X))\n",
    "X_train = X[: split]\n",
    "X_test = X[split:]\n",
    "y_train = y[: split]\n",
    "y_test = y[split:]"
   ]
  },
  {
   "cell_type": "code",
   "execution_count": 20,
   "metadata": {},
   "outputs": [],
   "source": [
    "scalers = {}\n",
    "for i in range(X_train.shape[1]):\n",
    "    scalers[i] = MinMaxScaler()\n",
    "    X_train[:, i, :] = scalers[i].fit_transform(X_train[:, i, :]) \n",
    "for i in range(X_test.shape[1]):\n",
    "    X_test[:, i, :] = scalers[i].transform(X_test[:, i, :])"
   ]
  },
  {
   "cell_type": "code",
   "execution_count": 21,
   "metadata": {},
   "outputs": [
    {
     "data": {
      "text/plain": [
       "(461, 20, 10)"
      ]
     },
     "execution_count": 21,
     "metadata": {},
     "output_type": "execute_result"
    }
   ],
   "source": [
    "X_test.shape"
   ]
  },
  {
   "cell_type": "code",
   "execution_count": 22,
   "metadata": {},
   "outputs": [],
   "source": [
    "sc = MinMaxScaler()\n",
    "sc.fit(y)\n",
    "y_train = sc.transform(y_train)\n",
    "y_test = sc.transform(y_test)"
   ]
  },
  {
   "cell_type": "code",
   "execution_count": 70,
   "metadata": {},
   "outputs": [
    {
     "name": "stdout",
     "output_type": "stream",
     "text": [
      "Epoch 1/20\n",
      "1657/1657 [==============================] - 19s 10ms/step - loss: 0.0017 - val_loss: 0.0016\n",
      "Epoch 2/20\n",
      "1657/1657 [==============================] - 15s 9ms/step - loss: 6.7114e-04 - val_loss: 1.8580e-04\n",
      "Epoch 3/20\n",
      "1657/1657 [==============================] - 15s 9ms/step - loss: 8.8781e-04 - val_loss: 3.3119e-04\n",
      "Epoch 4/20\n",
      "1657/1657 [==============================] - 15s 9ms/step - loss: 4.9176e-04 - val_loss: 5.4946e-04\n",
      "Epoch 5/20\n",
      "1657/1657 [==============================] - 15s 9ms/step - loss: 2.9869e-04 - val_loss: 1.5546e-04\n",
      "Epoch 6/20\n",
      "1657/1657 [==============================] - 15s 9ms/step - loss: 3.5489e-04 - val_loss: 4.7723e-05\n",
      "Epoch 7/20\n",
      "1657/1657 [==============================] - 15s 9ms/step - loss: 2.8685e-04 - val_loss: 9.5546e-05\n",
      "Epoch 8/20\n",
      "1657/1657 [==============================] - 15s 9ms/step - loss: 3.0015e-04 - val_loss: 3.7131e-05\n",
      "Epoch 9/20\n",
      "1657/1657 [==============================] - 15s 9ms/step - loss: 2.4269e-04 - val_loss: 6.8597e-04\n",
      "Epoch 10/20\n",
      "1657/1657 [==============================] - 15s 9ms/step - loss: 2.5072e-04 - val_loss: 7.1976e-05\n",
      "Epoch 11/20\n",
      "1657/1657 [==============================] - 15s 9ms/step - loss: 2.1729e-04 - val_loss: 1.8144e-04\n",
      "Epoch 12/20\n",
      "1657/1657 [==============================] - 15s 9ms/step - loss: 2.2297e-04 - val_loss: 5.8732e-04\n",
      "Epoch 13/20\n",
      "1657/1657 [==============================] - 15s 9ms/step - loss: 2.1775e-04 - val_loss: 1.8312e-04\n",
      "Epoch 14/20\n",
      "1657/1657 [==============================] - 15s 9ms/step - loss: 2.4245e-04 - val_loss: 5.3103e-05\n",
      "Epoch 15/20\n",
      "1657/1657 [==============================] - 15s 9ms/step - loss: 1.8007e-04 - val_loss: 2.0763e-04\n",
      "Epoch 16/20\n",
      "1657/1657 [==============================] - 15s 9ms/step - loss: 2.3513e-04 - val_loss: 4.2983e-05\n",
      "Epoch 17/20\n",
      "1657/1657 [==============================] - 14s 9ms/step - loss: 1.9825e-04 - val_loss: 1.2023e-04\n",
      "Epoch 18/20\n",
      "1657/1657 [==============================] - 14s 8ms/step - loss: 3.2515e-04 - val_loss: 3.1166e-05\n",
      "Epoch 19/20\n",
      "1657/1657 [==============================] - 15s 9ms/step - loss: 2.0171e-04 - val_loss: 5.1973e-05\n",
      "Epoch 20/20\n",
      "1657/1657 [==============================] - 14s 9ms/step - loss: 1.9564e-04 - val_loss: 3.9200e-05\n"
     ]
    }
   ],
   "source": [
    "#LSTM model\n",
    "model = Sequential()\n",
    "epochs = 20\n",
    "model.add(LSTM(100, return_sequences=True, bias_initializer='RandomNormal', input_shape=(X_train.shape[1],10)))\n",
    "model.add(Dropout(0.2))\n",
    "model.add(LSTM(50, return_sequences=True))\n",
    "model.add(Dropout(0.2))\n",
    "model.add(LSTM(50, return_sequences=True))\n",
    "model.add(Dropout(0.2))\n",
    "model.add(LSTM(50))\n",
    "model.add(Dropout(0.2))\n",
    "model.add(Dense(32))\n",
    "model.add(Dropout(0.2))\n",
    "model.add(Dense(1))\n",
    "model.compile(loss=\"mse\", optimizer=\"adam\")\n",
    "fit = model.fit(X_train, y_train, batch_size=1, epochs = epochs, validation_split=.1)"
   ]
  },
  {
   "cell_type": "code",
   "execution_count": 71,
   "metadata": {},
   "outputs": [
    {
     "name": "stdout",
     "output_type": "stream",
     "text": [
      "Model: \"sequential_4\"\n",
      "_________________________________________________________________\n",
      "Layer (type)                 Output Shape              Param #   \n",
      "=================================================================\n",
      "lstm_16 (LSTM)               (None, 20, 100)           44400     \n",
      "_________________________________________________________________\n",
      "dropout_20 (Dropout)         (None, 20, 100)           0         \n",
      "_________________________________________________________________\n",
      "lstm_17 (LSTM)               (None, 20, 50)            30200     \n",
      "_________________________________________________________________\n",
      "dropout_21 (Dropout)         (None, 20, 50)            0         \n",
      "_________________________________________________________________\n",
      "lstm_18 (LSTM)               (None, 20, 50)            20200     \n",
      "_________________________________________________________________\n",
      "dropout_22 (Dropout)         (None, 20, 50)            0         \n",
      "_________________________________________________________________\n",
      "lstm_19 (LSTM)               (None, 50)                20200     \n",
      "_________________________________________________________________\n",
      "dropout_23 (Dropout)         (None, 50)                0         \n",
      "_________________________________________________________________\n",
      "dense_8 (Dense)              (None, 32)                1632      \n",
      "_________________________________________________________________\n",
      "dropout_24 (Dropout)         (None, 32)                0         \n",
      "_________________________________________________________________\n",
      "dense_9 (Dense)              (None, 1)                 33        \n",
      "=================================================================\n",
      "Total params: 116,665\n",
      "Trainable params: 116,665\n",
      "Non-trainable params: 0\n",
      "_________________________________________________________________\n"
     ]
    }
   ],
   "source": [
    "model.summary()"
   ]
  },
  {
   "cell_type": "code",
   "execution_count": 72,
   "metadata": {},
   "outputs": [
    {
     "data": {
      "image/png": "[encoded data removed]",
      "text/plain": [
       "<Figure size 432x288 with 1 Axes>"
      ]
     },
     "metadata": {
      "needs_background": "light"
     },
     "output_type": "display_data"
    }
   ],
   "source": [
    "#Plot train vs validation loss\n",
    "plt.plot(fit.history['loss'])\n",
    "plt.plot(fit.history['val_loss'])\n",
    "plt.title('train vs validation loss')\n",
    "plt.ylabel('loss')\n",
    "plt.xlabel('epochs')\n",
    "plt.legend(['train', 'validation'], loc='upper right')\n",
    "plt.show()"
   ]
  },
  {
   "cell_type": "code",
   "execution_count": 73,
   "metadata": {},
   "outputs": [
    {
     "name": "stdout",
     "output_type": "stream",
     "text": [
      "15/15 [==============================] - 1s 8ms/step - loss: 0.0038\n"
     ]
    },
    {
     "data": {
      "text/plain": [
       "0.003773478325456381"
      ]
     },
     "execution_count": 73,
     "metadata": {},
     "output_type": "execute_result"
    }
   ],
   "source": [
    "model.evaluate(X_test, y_test)"
   ]
  },
  {
   "cell_type": "code",
   "execution_count": 74,
   "metadata": {},
   "outputs": [
    {
     "data": {
      "text/plain": [
       "(461, 1)"
      ]
     },
     "execution_count": 74,
     "metadata": {},
     "output_type": "execute_result"
    }
   ],
   "source": [
    "predicted = model.predict(X_test)\n",
    "predicted.shape"
   ]
  },
  {
   "cell_type": "code",
   "execution_count": 75,
   "metadata": {},
   "outputs": [
    {
     "data": {
      "text/plain": [
       "0.0037734776531872082"
      ]
     },
     "execution_count": 75,
     "metadata": {},
     "output_type": "execute_result"
    }
   ],
   "source": [
    "from sklearn.metrics import mean_squared_error\n",
    "mse = mean_squared_error(y_test, predicted)\n",
    "mse"
   ]
  },
  {
   "cell_type": "code",
   "execution_count": 76,
   "metadata": {},
   "outputs": [
    {
     "data": {
      "text/plain": [
       "0.06142863870530754"
      ]
     },
     "execution_count": 76,
     "metadata": {},
     "output_type": "execute_result"
    }
   ],
   "source": [
    "np.sqrt(mse)"
   ]
  },
  {
   "cell_type": "code",
   "execution_count": 77,
   "metadata": {},
   "outputs": [],
   "source": [
    "predicted_close = sc.inverse_transform(predicted)\n",
    "actual_close = sc.inverse_transform(y_test.reshape(-1, 1))\n",
    "# print(predicted_prices)"
   ]
  },
  {
   "cell_type": "code",
   "execution_count": 78,
   "metadata": {},
   "outputs": [
    {
     "data": {
      "text/plain": [
       "<AxesSubplot:xlabel='date'>"
      ]
     },
     "execution_count": 78,
     "metadata": {},
     "output_type": "execute_result"
    },
    {
     "data": {
      "image/png": "[encoded data removed]",
      "text/plain": [
       "<Figure size 432x288 with 1 Axes>"
      ]
     },
     "metadata": {
      "needs_background": "light"
     },
     "output_type": "display_data"
    }
   ],
   "source": [
    "results_df = pd.DataFrame({\n",
    "    \"actual_close\": actual_close.ravel(),\n",
    "    \"predicted_close\": predicted_close.ravel()\n",
    "    }, index = dataset.index[-len(actual_close): ])\n",
    "results_df.plot()"
   ]
  },
  {
   "cell_type": "code",
   "execution_count": 79,
   "metadata": {},
   "outputs": [
    {
     "data": {
      "text/html": [
       "<div>\n",
       "<style scoped>\n",
       "    .dataframe tbody tr th:only-of-type {\n",
       "        vertical-align: middle;\n",
       "    }\n",
       "\n",
       "    .dataframe tbody tr th {\n",
       "        vertical-align: top;\n",
       "    }\n",
       "\n",
       "    .dataframe thead th {\n",
       "        text-align: right;\n",
       "    }\n",
       "</style>\n",
       "<table border=\"1\" class=\"dataframe\">\n",
       "  <thead>\n",
       "    <tr style=\"text-align: right;\">\n",
       "      <th></th>\n",
       "      <th>actual_close</th>\n",
       "      <th>predicted_close</th>\n",
       "    </tr>\n",
       "    <tr>\n",
       "      <th>date</th>\n",
       "      <th></th>\n",
       "      <th></th>\n",
       "    </tr>\n",
       "  </thead>\n",
       "  <tbody>\n",
       "    <tr>\n",
       "      <th>2020-02-06</th>\n",
       "      <td>9729.802231</td>\n",
       "      <td>9204.943359</td>\n",
       "    </tr>\n",
       "    <tr>\n",
       "      <th>2020-02-07</th>\n",
       "      <td>9790.333846</td>\n",
       "      <td>9413.036133</td>\n",
       "    </tr>\n",
       "    <tr>\n",
       "      <th>2020-02-08</th>\n",
       "      <td>9866.507244</td>\n",
       "      <td>9613.272461</td>\n",
       "    </tr>\n",
       "    <tr>\n",
       "      <th>2020-02-09</th>\n",
       "      <td>10119.124820</td>\n",
       "      <td>9527.030273</td>\n",
       "    </tr>\n",
       "    <tr>\n",
       "      <th>2020-02-10</th>\n",
       "      <td>9865.592609</td>\n",
       "      <td>9531.526367</td>\n",
       "    </tr>\n",
       "    <tr>\n",
       "      <th>...</th>\n",
       "      <td>...</td>\n",
       "      <td>...</td>\n",
       "    </tr>\n",
       "    <tr>\n",
       "      <th>2021-05-07</th>\n",
       "      <td>57369.557999</td>\n",
       "      <td>48008.660156</td>\n",
       "    </tr>\n",
       "    <tr>\n",
       "      <th>2021-05-08</th>\n",
       "      <td>58766.584875</td>\n",
       "      <td>48145.910156</td>\n",
       "    </tr>\n",
       "    <tr>\n",
       "      <th>2021-05-09</th>\n",
       "      <td>58218.566077</td>\n",
       "      <td>48378.550781</td>\n",
       "    </tr>\n",
       "    <tr>\n",
       "      <th>2021-05-10</th>\n",
       "      <td>55824.861667</td>\n",
       "      <td>48037.769531</td>\n",
       "    </tr>\n",
       "    <tr>\n",
       "      <th>2021-05-11</th>\n",
       "      <td>56714.088910</td>\n",
       "      <td>47589.273438</td>\n",
       "    </tr>\n",
       "  </tbody>\n",
       "</table>\n",
       "<p>461 rows × 2 columns</p>\n",
       "</div>"
      ],
      "text/plain": [
       "            actual_close  predicted_close\n",
       "date                                     \n",
       "2020-02-06   9729.802231      9204.943359\n",
       "2020-02-07   9790.333846      9413.036133\n",
       "2020-02-08   9866.507244      9613.272461\n",
       "2020-02-09  10119.124820      9527.030273\n",
       "2020-02-10   9865.592609      9531.526367\n",
       "...                  ...              ...\n",
       "2021-05-07  57369.557999     48008.660156\n",
       "2021-05-08  58766.584875     48145.910156\n",
       "2021-05-09  58218.566077     48378.550781\n",
       "2021-05-10  55824.861667     48037.769531\n",
       "2021-05-11  56714.088910     47589.273438\n",
       "\n",
       "[461 rows x 2 columns]"
      ]
     },
     "execution_count": 79,
     "metadata": {},
     "output_type": "execute_result"
    }
   ],
   "source": [
    "results_df"
   ]
  },
  {
   "cell_type": "code",
   "execution_count": 80,
   "metadata": {},
   "outputs": [
    {
     "data": {
      "text/html": [
       "<div>\n",
       "<style scoped>\n",
       "    .dataframe tbody tr th:only-of-type {\n",
       "        vertical-align: middle;\n",
       "    }\n",
       "\n",
       "    .dataframe tbody tr th {\n",
       "        vertical-align: top;\n",
       "    }\n",
       "\n",
       "    .dataframe thead th {\n",
       "        text-align: right;\n",
       "    }\n",
       "</style>\n",
       "<table border=\"1\" class=\"dataframe\">\n",
       "  <thead>\n",
       "    <tr style=\"text-align: right;\">\n",
       "      <th></th>\n",
       "      <th>date</th>\n",
       "      <th>open</th>\n",
       "      <th>high</th>\n",
       "      <th>low</th>\n",
       "      <th>close</th>\n",
       "      <th>actual_close</th>\n",
       "      <th>predicted_close</th>\n",
       "      <th>predicted_perc_change</th>\n",
       "    </tr>\n",
       "  </thead>\n",
       "  <tbody>\n",
       "    <tr>\n",
       "      <th>455</th>\n",
       "      <td>2021-05-07</td>\n",
       "      <td>56413.953551</td>\n",
       "      <td>58516.499418</td>\n",
       "      <td>55404.680358</td>\n",
       "      <td>57369.557999</td>\n",
       "      <td>57369.557999</td>\n",
       "      <td>48008.660156</td>\n",
       "      <td>0.007860</td>\n",
       "    </tr>\n",
       "    <tr>\n",
       "      <th>456</th>\n",
       "      <td>2021-05-08</td>\n",
       "      <td>57352.765953</td>\n",
       "      <td>59454.684237</td>\n",
       "      <td>57061.019638</td>\n",
       "      <td>58766.584875</td>\n",
       "      <td>58766.584875</td>\n",
       "      <td>48145.910156</td>\n",
       "      <td>0.002859</td>\n",
       "    </tr>\n",
       "    <tr>\n",
       "      <th>457</th>\n",
       "      <td>2021-05-09</td>\n",
       "      <td>58949.175691</td>\n",
       "      <td>59210.881789</td>\n",
       "      <td>56594.240801</td>\n",
       "      <td>58218.566077</td>\n",
       "      <td>58218.566077</td>\n",
       "      <td>48378.550781</td>\n",
       "      <td>0.004832</td>\n",
       "    </tr>\n",
       "    <tr>\n",
       "      <th>458</th>\n",
       "      <td>2021-05-10</td>\n",
       "      <td>58313.694230</td>\n",
       "      <td>59463.950585</td>\n",
       "      <td>54558.287582</td>\n",
       "      <td>55824.861667</td>\n",
       "      <td>55824.861667</td>\n",
       "      <td>48037.769531</td>\n",
       "      <td>-0.007044</td>\n",
       "    </tr>\n",
       "    <tr>\n",
       "      <th>459</th>\n",
       "      <td>2021-05-11</td>\n",
       "      <td>55828.260785</td>\n",
       "      <td>56870.394152</td>\n",
       "      <td>54696.374470</td>\n",
       "      <td>56714.088910</td>\n",
       "      <td>56714.088910</td>\n",
       "      <td>47589.273438</td>\n",
       "      <td>-0.009336</td>\n",
       "    </tr>\n",
       "  </tbody>\n",
       "</table>\n",
       "</div>"
      ],
      "text/plain": [
       "          date          open          high           low         close  \\\n",
       "455 2021-05-07  56413.953551  58516.499418  55404.680358  57369.557999   \n",
       "456 2021-05-08  57352.765953  59454.684237  57061.019638  58766.584875   \n",
       "457 2021-05-09  58949.175691  59210.881789  56594.240801  58218.566077   \n",
       "458 2021-05-10  58313.694230  59463.950585  54558.287582  55824.861667   \n",
       "459 2021-05-11  55828.260785  56870.394152  54696.374470  56714.088910   \n",
       "\n",
       "     actual_close  predicted_close  predicted_perc_change  \n",
       "455  57369.557999     48008.660156               0.007860  \n",
       "456  58766.584875     48145.910156               0.002859  \n",
       "457  58218.566077     48378.550781               0.004832  \n",
       "458  55824.861667     48037.769531              -0.007044  \n",
       "459  56714.088910     47589.273438              -0.009336  "
      ]
     },
     "execution_count": 80,
     "metadata": {},
     "output_type": "execute_result"
    }
   ],
   "source": [
    "results_prices_df = pd.concat([ohlc_df, results_df], axis=1, join='inner')\n",
    "results_prices_df['predicted_perc_change'] = results_prices_df['predicted_close'].pct_change()\n",
    "results_prices_df.dropna(inplace=True)\n",
    "results_prices_df.reset_index(inplace=True)\n",
    "results_prices_df.tail()\n",
    "\n",
    "\n"
   ]
  },
  {
   "cell_type": "code",
   "execution_count": 81,
   "metadata": {},
   "outputs": [
    {
     "name": "stdout",
     "output_type": "stream",
     "text": [
      "26750.18355728071\n",
      "0\n",
      "49\n",
      "43\n"
     ]
    }
   ],
   "source": [
    "position=0\n",
    "realized_profit = 0\n",
    "unrealized_profit = 0 \n",
    "profitable_transactions=0\n",
    "unprofitable_transactions=0\n",
    "data_size = len(results_prices_df.index)\n",
    "\n",
    "for index, value in results_prices_df.iterrows():\n",
    "    if index<data_size-1:\n",
    "        open_price = results_prices_df.iloc[index][1]\n",
    "        close_price = results_prices_df.iloc[index][4]\n",
    "        tmo_open_price = results_prices_df.iloc[index+1][1]\n",
    "        tmo_close_price = results_prices_df.iloc[index+1][4]\n",
    "        \n",
    "        if position == 1:\n",
    "            unrealized_profit = close_price - buy_price\n",
    "        if value[7] > 0:\n",
    "            if position == 0:\n",
    "                buy_price = tmo_open_price\n",
    "                position = 1\n",
    "        if value[7] < 0:\n",
    "            if position ==1:\n",
    "                sell_price = tmo_open_price\n",
    "                position = 0\n",
    "                trans_profit = sell_price-buy_price\n",
    "                unrealized_profit = 0 \n",
    "                realized_profit += trans_profit\n",
    "                if trans_profit>=0:\n",
    "                    profitable_transactions+=1\n",
    "                else:\n",
    "                    unprofitable_transactions+=1\n",
    "\n",
    "            \n",
    "            \n",
    "            \n",
    "print(realized_profit)\n",
    "print(unrealized_profit)\n",
    "print(profitable_transactions)\n",
    "print(unprofitable_transactions)"
   ]
  },
  {
   "cell_type": "code",
   "execution_count": null,
   "metadata": {},
   "outputs": [],
   "source": []
  }
 ],
 "metadata": {
  "kernelspec": {
   "display_name": "Python [conda env:mlenv] *",
   "language": "python",
   "name": "conda-env-mlenv-py"
  },
  "language_info": {
   "codemirror_mode": {
    "name": "ipython",
    "version": 3
   },
   "file_extension": ".py",
   "mimetype": "text/x-python",
   "name": "python",
   "nbconvert_exporter": "python",
   "pygments_lexer": "ipython3",
   "version": "3.7.9"
  }
 },
 "nbformat": 4,
 "nbformat_minor": 4
}
